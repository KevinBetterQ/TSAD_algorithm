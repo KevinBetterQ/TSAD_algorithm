{
 "cells": [
  {
   "cell_type": "markdown",
   "metadata": {},
   "source": [
    "## 1、读取数据\n",
    "采用决赛数据实验"
   ]
  },
  {
   "cell_type": "code",
   "execution_count": 4,
   "metadata": {
    "collapsed": false
   },
   "outputs": [
    {
     "name": "stdout",
     "output_type": "stream",
     "text": [
      "['dataID.png', 'phase2_ground_truth.hdf', 'phase2_train.csv', 'README.md']\n"
     ]
    }
   ],
   "source": [
    "import os\n",
    "print(os.listdir(\"../input\"))\n",
    "import numpy as np   # linear algebra\n",
    "import pandas as pd  # data processing, CSV file I/O (e.g. pd.read_csv)\n",
    "import sklearn\n",
    "import matplotlib.pyplot as plt\n",
    "from sklearn.model_selection import train_test_split\n",
    "import time"
   ]
  },
  {
   "cell_type": "code",
   "execution_count": 5,
   "metadata": {
    "collapsed": true
   },
   "outputs": [],
   "source": [
    "def show_dataset_info(dataframe):\n",
    "    \"\"\"\n",
    "    get a pandas dataframe as input and print the information.\n",
    "    \"\"\"\n",
    "    # show basic info of the phase 2 training dataset\n",
    "    print(dataframe.columns, '\\n')\n",
    "    print(dataframe.describe(), '\\n')\n",
    "    print(dataframe.head(), '\\n')"
   ]
  },
  {
   "cell_type": "code",
   "execution_count": 6,
   "metadata": {
    "collapsed": true
   },
   "outputs": [],
   "source": [
    "# read datasets as pandas dataframes\n",
    "phase2_train = pd.read_csv('../input/phase2_train.csv')\n",
    "phase2_test = pd.read_hdf('../input/phase2_ground_truth.hdf')"
   ]
  },
  {
   "cell_type": "code",
   "execution_count": 5,
   "metadata": {
    "collapsed": true
   },
   "outputs": [
    {
     "name": "stdout",
     "output_type": "stream",
     "text": [
      "Index(['timestamp', 'value', 'label', 'KPI ID'], dtype='object') \n",
      "\n",
      "          timestamp         value         label\n",
      "count  3.004066e+06  3.004066e+06  3.004066e+06\n",
      "mean   1.495420e+09  5.059672e+01  2.648211e-02\n",
      "std    5.426934e+06  6.104686e+01  1.605641e-01\n",
      "min    1.467302e+09 -3.011022e+00  0.000000e+00\n",
      "25%    1.493983e+09  3.062500e+00  0.000000e+00\n",
      "50%    1.496416e+09  3.192000e+01  0.000000e+00\n",
      "75%    1.498642e+09  4.843000e+01  0.000000e+00\n",
      "max    1.502343e+09  1.189250e+03  1.000000e+00 \n",
      "\n",
      "    timestamp     value  label                                KPI ID\n",
      "0  1476460800  0.012604      0  da10a69f-d836-3baa-ad40-3e548ecf1fbd\n",
      "1  1476460860  0.017786      0  da10a69f-d836-3baa-ad40-3e548ecf1fbd\n",
      "2  1476460920  0.012014      0  da10a69f-d836-3baa-ad40-3e548ecf1fbd\n",
      "3  1476460980  0.017062      0  da10a69f-d836-3baa-ad40-3e548ecf1fbd\n",
      "4  1476461040  0.023632      0  da10a69f-d836-3baa-ad40-3e548ecf1fbd \n",
      "\n"
     ]
    }
   ],
   "source": [
    "show_dataset_info(phase2_train)\n",
    "\n",
    "# 训练集有300多万样本，没有缺失值"
   ]
  },
  {
   "cell_type": "code",
   "execution_count": 6,
   "metadata": {
    "collapsed": true
   },
   "outputs": [
    {
     "name": "stdout",
     "output_type": "stream",
     "text": [
      "Index(['timestamp', 'value', 'label', 'KPI ID'], dtype='object') \n",
      "\n",
      "          timestamp         value         label\n",
      "count  2.918847e+06  2.918847e+06  2.918847e+06\n",
      "mean   1.503556e+09  4.948557e+01  1.869231e-02\n",
      "std    6.042222e+06  5.331214e+01  1.354360e-01\n",
      "min    1.471045e+09 -4.750345e+00  0.000000e+00\n",
      "25%    1.502447e+09  3.800000e+00  0.000000e+00\n",
      "50%    1.504542e+09  3.352000e+01  0.000000e+00\n",
      "75%    1.506937e+09  6.253000e+01  0.000000e+00\n",
      "max    1.509383e+09  1.865750e+03  1.000000e+00 \n",
      "\n",
      "         timestamp     value  label                                KPI ID\n",
      "107717  1482940800  0.048066      0  da10a69f-d836-3baa-ad40-3e548ecf1fbd\n",
      "107718  1482940860  0.010651      0  da10a69f-d836-3baa-ad40-3e548ecf1fbd\n",
      "107719  1482940920  0.014996      0  da10a69f-d836-3baa-ad40-3e548ecf1fbd\n",
      "107720  1482940980  0.039722      0  da10a69f-d836-3baa-ad40-3e548ecf1fbd\n",
      "107721  1482941040  0.022452      0  da10a69f-d836-3baa-ad40-3e548ecf1fbd \n",
      "\n"
     ]
    }
   ],
   "source": [
    "show_dataset_info(phase2_test)\n",
    "\n",
    "# 测试集有291多万样本，没有缺失值"
   ]
  },
  {
   "cell_type": "markdown",
   "metadata": {},
   "source": [
    "## 2、数据预处理\n",
    "\n",
    "主要是将时间序列按照KPI ID划分，并进行规范化处理"
   ]
  },
  {
   "cell_type": "code",
   "execution_count": 7,
   "metadata": {
    "collapsed": true
   },
   "outputs": [
    {
     "data": {
      "text/plain": [
       "(array(['05f10d3a-239c-3bef-9bdc-a2feeb0037aa',\n",
       "        '0efb375b-b902-3661-ab23-9a0bb799f4e3',\n",
       "        '1c6d7a26-1f1a-3321-bb4d-7a9d969ec8f0',\n",
       "        '301c70d8-1630-35ac-8f96-bc1b6f4359ea',\n",
       "        '42d6616d-c9c5-370a-a8ba-17ead74f3114',\n",
       "        '43115f2a-baeb-3b01-96f7-4ea14188343c',\n",
       "        '431a8542-c468-3988-a508-3afd06a218da',\n",
       "        '4d2af31a-9916-3d9f-8a8e-8a268a48c095',\n",
       "        '54350a12-7a9d-3ca8-b81f-f886b9d156fd',\n",
       "        '55f8b8b8-b659-38df-b3df-e4a5a8a54bc9',\n",
       "        '57051487-3a40-3828-9084-a12f7f23ee38',\n",
       "        '6a757df4-95e5-3357-8406-165e2bd49360',\n",
       "        '6d1114ae-be04-3c46-b5aa-be1a003a57cd',\n",
       "        '6efa3a07-4544-34a0-b921-a155bd1a05e8',\n",
       "        '7103fa0f-cac4-314f-addc-866190247439',\n",
       "        '847e8ecc-f8d2-3a93-9107-f367a0aab37d',\n",
       "        '8723f0fb-eaef-32e6-b372-6034c9c04b80',\n",
       "        '9c639a46-34c8-39bc-aaf0-9144b37adfc8',\n",
       "        'a07ac296-de40-3a7c-8df3-91f642cc14d0',\n",
       "        'a8c06b47-cc41-3738-9110-12df0ee4c721',\n",
       "        'ab216663-dcc2-3a24-b1ee-2c3e550e06c9',\n",
       "        'adb2fde9-8589-3f5b-a410-5fe14386c7af',\n",
       "        'ba5f3328-9f3f-3ff5-a683-84437d16d554',\n",
       "        'c02607e8-7399-3dde-9d28-8a8da5e5d251',\n",
       "        'c69a50cf-ee03-3bd7-831e-407d36c7ee91',\n",
       "        'da10a69f-d836-3baa-ad40-3e548ecf1fbd',\n",
       "        'e0747cad-8dc8-38a9-a9ab-855b61f5551d',\n",
       "        'f0932edd-6400-3e63-9559-0a9860a1baa9',\n",
       "        'ffb82d38-5f00-37db-abc0-5d2e4e4cb6aa'], dtype=object),\n",
       " array([1366509,  145368, 1074000,  162936, 2857813, 1804127,  944954,\n",
       "         300712,  127639, 2272873,  687378,  429584, 2419077, 1658992,\n",
       "         171720, 1512764, 2565316, 1912198, 2020272,  136505,  116501,\n",
       "        2711559, 2126747,  154152, 1220254,       0,  107717,  816165,\n",
       "         558594], dtype=int64),\n",
       " array([146255,   8784, 146254,   8784, 146253, 108071, 129046, 128872,\n",
       "          8866, 146204, 128787, 129010, 146239, 145135, 128992, 146228,\n",
       "        146243, 108074, 106475,   8863,  11138, 146254, 146126,   8784,\n",
       "        146255, 107717,   8784, 128789, 128784], dtype=int64))"
      ]
     },
     "execution_count": 7,
     "metadata": {},
     "output_type": "execute_result"
    }
   ],
   "source": [
    "np.unique(phase2_train['KPI ID'],return_index=True,return_counts=True)"
   ]
  },
  {
   "cell_type": "markdown",
   "metadata": {},
   "source": [
    "### 按照ID划分"
   ]
  },
  {
   "cell_type": "code",
   "execution_count": 7,
   "metadata": {
    "collapsed": true
   },
   "outputs": [],
   "source": [
    "\"\"\"\n",
    "按照 KPI ID 进行划分。\n",
    "将各个 ID 的所有value存入一个list\n",
    "将各个 ID 的所有label存入一个list\n",
    "\"\"\"\n",
    "def get_time_series_from_dataframe(dataframe):\n",
    "    \"\"\"\n",
    "    extract the time series set from given dataframe.\n",
    "    \"\"\"\n",
    "    # training time series extraction\n",
    "    ts_ids, ts_indexes, ts_point_counts = np.unique(dataframe['KPI ID'],\n",
    "                                                    return_index=True,\n",
    "                                                    return_counts=True)\n",
    "    print('Extract are %d time series in the dataframe:' %(len(ts_ids)))\n",
    "\n",
    "    # extract time series using ts_indexes\n",
    "    ts_indexes.sort()\n",
    "    ts_indexes = np.append(ts_indexes, len(dataframe))   # full ranges for extracting time series\n",
    "\n",
    "    set_of_time_series = []\n",
    "    set_of_time_series_label = []\n",
    "\n",
    "    for i in np.arange(len(ts_indexes)-1):\n",
    "        print('Extracting %d th time series with index %d and %d (exclusive)'\n",
    "              %(i, ts_indexes[i], ts_indexes[i+1]))\n",
    "        set_of_time_series.append(np.asarray(dataframe['value']\n",
    "                                             [ts_indexes[i]:ts_indexes[i+1]]))\n",
    "        set_of_time_series_label.append(np.asarray(dataframe['label']\n",
    "                                                  [ts_indexes[i]:ts_indexes[i+1]]))\n",
    "        \n",
    "    return set_of_time_series, set_of_time_series_label"
   ]
  },
  {
   "cell_type": "code",
   "execution_count": 8,
   "metadata": {
    "collapsed": true
   },
   "outputs": [
    {
     "name": "stdout",
     "output_type": "stream",
     "text": [
      "Extract are 29 time series in the dataframe:\n",
      "Extracting 0 th time series with index 0 and 107717 (exclusive)\n",
      "Extracting 1 th time series with index 107717 and 116501 (exclusive)\n",
      "Extracting 2 th time series with index 116501 and 127639 (exclusive)\n",
      "Extracting 3 th time series with index 127639 and 136505 (exclusive)\n",
      "Extracting 4 th time series with index 136505 and 145368 (exclusive)\n",
      "Extracting 5 th time series with index 145368 and 154152 (exclusive)\n",
      "Extracting 6 th time series with index 154152 and 162936 (exclusive)\n",
      "Extracting 7 th time series with index 162936 and 171720 (exclusive)\n",
      "Extracting 8 th time series with index 171720 and 300712 (exclusive)\n",
      "Extracting 9 th time series with index 300712 and 429584 (exclusive)\n",
      "Extracting 10 th time series with index 429584 and 558594 (exclusive)\n",
      "Extracting 11 th time series with index 558594 and 687378 (exclusive)\n",
      "Extracting 12 th time series with index 687378 and 816165 (exclusive)\n",
      "Extracting 13 th time series with index 816165 and 944954 (exclusive)\n",
      "Extracting 14 th time series with index 944954 and 1074000 (exclusive)\n",
      "Extracting 15 th time series with index 1074000 and 1220254 (exclusive)\n",
      "Extracting 16 th time series with index 1220254 and 1366509 (exclusive)\n",
      "Extracting 17 th time series with index 1366509 and 1512764 (exclusive)\n",
      "Extracting 18 th time series with index 1512764 and 1658992 (exclusive)\n",
      "Extracting 19 th time series with index 1658992 and 1804127 (exclusive)\n",
      "Extracting 20 th time series with index 1804127 and 1912198 (exclusive)\n",
      "Extracting 21 th time series with index 1912198 and 2020272 (exclusive)\n",
      "Extracting 22 th time series with index 2020272 and 2126747 (exclusive)\n",
      "Extracting 23 th time series with index 2126747 and 2272873 (exclusive)\n",
      "Extracting 24 th time series with index 2272873 and 2419077 (exclusive)\n",
      "Extracting 25 th time series with index 2419077 and 2565316 (exclusive)\n",
      "Extracting 26 th time series with index 2565316 and 2711559 (exclusive)\n",
      "Extracting 27 th time series with index 2711559 and 2857813 (exclusive)\n",
      "Extracting 28 th time series with index 2857813 and 3004066 (exclusive)\n",
      "\n",
      "Extract are 29 time series in the dataframe:\n",
      "Extracting 0 th time series with index 0 and 107167 (exclusive)\n",
      "Extracting 1 th time series with index 107167 and 115951 (exclusive)\n",
      "Extracting 2 th time series with index 115951 and 126731 (exclusive)\n",
      "Extracting 3 th time series with index 126731 and 134347 (exclusive)\n",
      "Extracting 4 th time series with index 134347 and 141925 (exclusive)\n",
      "Extracting 5 th time series with index 141925 and 150709 (exclusive)\n",
      "Extracting 6 th time series with index 150709 and 159493 (exclusive)\n",
      "Extracting 7 th time series with index 159493 and 168277 (exclusive)\n",
      "Extracting 8 th time series with index 168277 and 276702 (exclusive)\n",
      "Extracting 9 th time series with index 276702 and 388072 (exclusive)\n",
      "Extracting 10 th time series with index 388072 and 498948 (exclusive)\n",
      "Extracting 11 th time series with index 498948 and 610344 (exclusive)\n",
      "Extracting 12 th time series with index 610344 and 722023 (exclusive)\n",
      "Extracting 13 th time series with index 722023 and 834172 (exclusive)\n",
      "Extracting 14 th time series with index 834172 and 945738 (exclusive)\n",
      "Extracting 15 th time series with index 945738 and 1094894 (exclusive)\n",
      "Extracting 16 th time series with index 1094894 and 1244053 (exclusive)\n",
      "Extracting 17 th time series with index 1244053 and 1393183 (exclusive)\n",
      "Extracting 18 th time series with index 1393183 and 1542306 (exclusive)\n",
      "Extracting 19 th time series with index 1542306 and 1691454 (exclusive)\n",
      "Extracting 20 th time series with index 1691454 and 1802083 (exclusive)\n",
      "Extracting 21 th time series with index 1802083 and 1912719 (exclusive)\n",
      "Extracting 22 th time series with index 1912719 and 2024026 (exclusive)\n",
      "Extracting 23 th time series with index 2024026 and 2173158 (exclusive)\n",
      "Extracting 24 th time series with index 2173158 and 2322291 (exclusive)\n",
      "Extracting 25 th time series with index 2322291 and 2471413 (exclusive)\n",
      "Extracting 26 th time series with index 2471413 and 2620531 (exclusive)\n",
      "Extracting 27 th time series with index 2620531 and 2769686 (exclusive)\n",
      "Extracting 28 th time series with index 2769686 and 2918847 (exclusive)\n"
     ]
    }
   ],
   "source": [
    "train_time_series_dataset, \\\n",
    "train_time_series_dataset_label = get_time_series_from_dataframe(phase2_train)\n",
    "print()\n",
    "test_time_series_dataset,\\\n",
    "test_time_series_dataset_label = get_time_series_from_dataframe(phase2_test)"
   ]
  },
  {
   "cell_type": "markdown",
   "metadata": {},
   "source": [
    "![image](../input/dataID.png)\n",
    "\n",
    "可以看到各个 ID 数据，最多十几万，少的8000"
   ]
  },
  {
   "cell_type": "markdown",
   "metadata": {},
   "source": [
    "### 归一化-针对每个ID指标数据"
   ]
  },
  {
   "cell_type": "code",
   "execution_count": 9,
   "metadata": {
    "collapsed": true
   },
   "outputs": [],
   "source": [
    "def plot_time_series_info(set_of_time_series, set_of_time_series_scaled, set_of_time_series_label, index):\n",
    "    \"\"\"\n",
    "    plot a time series from the given set of time series using the given index\n",
    "    \"\"\"\n",
    "    assert(len(set_of_time_series) == len(set_of_time_series_scaled) == len(set_of_time_series_label))\n",
    "    \n",
    "    index_revised = index % len(set_of_time_series)\n",
    "    ts = set_of_time_series[index_revised]\n",
    "    ts_scaled = set_of_time_series_scaled[index_revised]\n",
    "    ts_label = set_of_time_series_label[index_revised]\n",
    "    \n",
    "    plt.subplot(3,1,1)\n",
    "    plt.plot(ts, 'r')\n",
    "    plt.subplot(3,1,2)\n",
    "    plt.plot(ts_scaled, 'b')\n",
    "    plt.subplot(3,1,3)\n",
    "    plt.plot(ts_label, 'k')\n",
    "    plt.show()"
   ]
  },
  {
   "cell_type": "code",
   "execution_count": 10,
   "metadata": {
    "collapsed": false,
    "scrolled": true
   },
   "outputs": [
    {
     "name": "stdout",
     "output_type": "stream",
     "text": [
      "Here is a training example of a time series after/before scaling/normalization/transforming:\n"
     ]
    },
    {
     "data": {
      "image/png": "[encoded data removed]",
      "text/plain": [
       "<matplotlib.figure.Figure at 0x21054712be0>"
      ]
     },
     "metadata": {},
     "output_type": "display_data"
    },
    {
     "name": "stdout",
     "output_type": "stream",
     "text": [
      "Here is a testing example of a time series after/before scaling/normalization/transforming:\n"
     ]
    },
    {
     "data": {
      "image/png": "[encoded data removed]",
      "text/plain": [
       "<matplotlib.figure.Figure at 0x2105c12fac8>"
      ]
     },
     "metadata": {},
     "output_type": "display_data"
    }
   ],
   "source": [
    "# import library to preprocess time series\n",
    "# there is a big number of scalers, normalizers and transformers that could be of help\n",
    "# pick one of them to maximize the anomaly detection performance in a specific application\n",
    "from sklearn import preprocessing\n",
    "from sklearn.preprocessing import scale\n",
    "from sklearn.preprocessing import minmax_scale\n",
    "from sklearn.preprocessing import maxabs_scale\n",
    "\n",
    "import random\n",
    "\n",
    "# here we use the basic one (minmax_scale()) to get the baseline performance\n",
    "train_time_series_dataset_size = len(train_time_series_dataset)\n",
    "test_time_series_dataset_size = len(test_time_series_dataset)\n",
    "\n",
    "train_time_series_dataset_scaled = []\n",
    "test_time_series_dataset_scaled = []\n",
    "\n",
    "for i in np.arange(train_time_series_dataset_size):\n",
    "    train_time_series_dataset_scaled.append(minmax_scale(train_time_series_dataset[i]))\n",
    "    \n",
    "for i in np.arange(test_time_series_dataset_size):\n",
    "    test_time_series_dataset_scaled.append(minmax_scale(test_time_series_dataset[i]))\n",
    "\n",
    "# plot an example after scaling/normalization/transforming, random index\n",
    "print('Here is a training example of a time series after/before scaling/normalization/transforming:')\n",
    "plot_time_series_info(train_time_series_dataset, \n",
    "                      train_time_series_dataset_scaled,\n",
    "                      train_time_series_dataset_label,\n",
    "                      random.randint(0,train_time_series_dataset_size))\n",
    "\n",
    "print('Here is a testing example of a time series after/before scaling/normalization/transforming:')\n",
    "plot_time_series_info(test_time_series_dataset,\n",
    "                      test_time_series_dataset_scaled, \n",
    "                      test_time_series_dataset_label,\n",
    "                      random.randint(0,test_time_series_dataset_size))"
   ]
  },
  {
   "cell_type": "markdown",
   "metadata": {},
   "source": [
    "## 3、特征工程"
   ]
  },
  {
   "cell_type": "markdown",
   "metadata": {},
   "source": [
    "特征提取方案\n",
    "\n",
    "- t时刻拟合值与实际值的对比特征\n",
    "- t和t-1的对比特征\n",
    "- 滑动窗口统计特征：均值、方差和分位数\n",
    "- 滑动窗口 + 对比\n",
    "\n",
    "特征集：多重窗口 * 统计特征 * 对比特征"
   ]
  },
  {
   "cell_type": "markdown",
   "metadata": {},
   "source": [
    "### 特征提取具体方法：\n",
    "\n",
    "For determining the abnormality of the data point in time step $T$, we are examining the following features:\n",
    "* the 4 types of residuals (SARIMAX, SimpleExponentialSmoothing, SimpleExponentialSmoothing(add), Holt):\n",
    "$$\n",
    "f_{residual} = x_{T} - fittedvalue_{T}\n",
    "$$\n",
    "* the logarithm of the original time series:\n",
    "$$\n",
    "f_{log} = log(x_{T})\n",
    "$$\n",
    "* the difference of the original time series:\n",
    "$$\n",
    "f_{diff} = x_{T} - x_{T-1}\n",
    "$$\n",
    "* the percentage of the difference:\n",
    "$$\n",
    "f_{percent} = \\frac{f_{diff}}{x_{T-1}}\n",
    "$$\n",
    "* the difference of difference\n",
    "$$\n",
    "f_{diff2} = f_{diff} - (x_{T-1} - x_{T-2})\n",
    "$$\n",
    "* the difference of current time series with accumulated mean\n",
    "$$\n",
    "f_{diff3} = x_{T} - accumulated_mean\n",
    "$$\n",
    "\n",
    "The following features are associated with different window sizes:\n",
    "* the mean of the sliding window which is of size $W$:\n",
    "$$\n",
    "f_1 = mean([x_{T-W}, x_{T-W+1}, \\cdots, x_T])\n",
    "$$\n",
    "* the variance of the sliding window which is of size $W$:\n",
    "$$\n",
    "f_2 = var([x_{T-W}, x_{T-W+1}, \\cdots, x_T])\n",
    "$$\n",
    "* the difference between the means of time window to $T$ and $T-1$:\n",
    "$$\n",
    "f_3 = mean([x_{T-W}, x_{T-W+1}, \\cdots, x_T]) - mean([x_{T-W-1}, x_{T-W+1}, \\cdots, x_{T-1}])\n",
    "$$\n",
    "* the percentage of the different between the means of time window to $T$ and $T-1$:\n",
    "$$\n",
    "f_4 = \\frac{mean([x_{T-W}, x_{T-W+1}, \\cdots, x_T]) - mean([x_{T-W-1}, x_{T-W+1}, \\cdots, x_{T-1}])}{mean([x_{T-W-1}, x_{T-W+1}, \\cdots, x_{T-1}]}\n",
    "$$\n",
    "* the difference between the vars of time window to $T$ and $T-1$:\n",
    "$$\n",
    "f_5 = var([x_{T-W}, x_{T-W+1}, \\cdots, x_T]) - var([x_{T-W-1}, x_{T-W+1}, \\cdots, x_{T-1}])\n",
    "$$\n",
    "* the percentage of the different between the vars of time window to $T$ and $T-1$:\n",
    "$$\n",
    "f_6 = \\frac{var([x_{T-W}, x_{T-W+1}, \\cdots, x_T]) - var([x_{T-W-1}, x_{T-W+1}, \\cdots, x_{T-1}])}{var([x_{T-W-1}, x_{T-W+1}, \\cdots, x_{T-1}]}\n",
    "$$\n",
    "* the difference between the means of sliding windows from time step $T-W$ to $T$ and $T-2W$ to $T-W$:\n",
    "$$\n",
    "f_7 = mean([x_{T-W}, x_{T-W+1}, \\cdots, x_T]) - mean([x_{T-2W}, x_{T-W+1}, \\cdots, x_{T-W}])\n",
    "$$\n",
    "* the change ratio between the means of sliding windows from time step $T-W$ to $T$ and $T-2W$ to $T-W$:\n",
    "$$\n",
    "f_8 = \\frac{mean([x_{T-W}, x_{T-W+1}, \\cdots, x_T]) - mean([x_{T-2W}, x_{T-W+1}, \\cdots, x_{T-W}])}{mean([x_{T-2W}, x_{T-W+1}, \\cdots, x_{T-W}])}\n",
    "$$\n",
    "* the difference between the variances of sliding windows from time step $T-W$ to $T$ and $T-2W$ to $T-W$:\n",
    "$$\n",
    "f_9 = var([x_{T-W}, x_{T-W+1}, \\cdots, x_T]) - var([x_{T-2W}, x_{T-W+1}, \\cdots, x_{T-W}])\n",
    "$$\n",
    "* the change ratio between the variances of sliding windows from time step $T-W$ to $T$ and $T-2W$ to $T-W$:\n",
    "$$\n",
    "f_{10} = \\frac{var([x_{T-W}, x_{T-W+1}, \\cdots, x_T]) - var([x_{T-2W}, x_{T-W+1}, \\cdots, x_{T-W}])}{var([x_{T-2W}, x_{T-W+1}, \\cdots, x_{T-W}])}\n",
    "$$\n",
    "* the difference between the current value and mean of the window from time step $T-W-1$ to $T-1$:\n",
    "$$\n",
    "f_{11} = x_{T} - mean([x_{T-W-1}, x_{T-W+1}, \\cdots, x_{T-1}])\n",
    "$$\n",
    "* the difference between the current value and mean of the window from time step $T-2W$ to $T-W$:\n",
    "$$\n",
    "f_{12} = x_{T} - mean([x_{T-2W}, x_{T-W+1}, \\cdots, x_{T-W}])\n",
    "$$\n",
    "\n",
    "所以，有至少 9 + 12 个特征。\n",
    "对于设置不同n个窗口，可以得到12n+9特征\n"
   ]
  },
  {
   "cell_type": "code",
   "execution_count": 11,
   "metadata": {
    "collapsed": false,
    "scrolled": true
   },
   "outputs": [],
   "source": [
    "from statsmodels.tsa.api import SARIMAX, ExponentialSmoothing, SimpleExpSmoothing, Holt"
   ]
  },
  {
   "cell_type": "code",
   "execution_count": 12,
   "metadata": {
    "collapsed": false
   },
   "outputs": [],
   "source": [
    "def get_feature_logs(time_series):\n",
    "    return np.log(time_series + 1e-2)\n",
    "\n",
    "def get_feature_SARIMA_residuals(time_series):\n",
    "    predict = SARIMAX(time_series,\n",
    "                      trend='n').fit().get_prediction()\n",
    "    return time_series - predict.predicted_mean\n",
    "\n",
    "def get_feature_AddES_residuals(time_series):\n",
    "    predict = ExponentialSmoothing(time_series, trend='add').fit(smoothing_level=1)\n",
    "    return time_series - predict.fittedvalues\n",
    "\n",
    "def get_feature_SimpleES_residuals(time_series):\n",
    "    predict = SimpleExpSmoothing(time_series).fit(smoothing_level=1)\n",
    "    return time_series - predict.fittedvalues\n",
    "\n",
    "def get_feature_Holt_residuals(time_series):\n",
    "    predict = Holt(time_series).fit(smoothing_level=1)\n",
    "    return time_series - predict.fittedvalues"
   ]
  },
  {
   "cell_type": "code",
   "execution_count": 13,
   "metadata": {
    "collapsed": true
   },
   "outputs": [],
   "source": [
    "# 传入的是一个指标的时间序列，返回的是这个指标的针对每个时刻的特征数组组合而成的list\n",
    "def get_features_and_labels_from_a_time_series(time_series, time_series_label, Windows, delay):\n",
    "    \"\"\"\n",
    "    Input: time_series, time_series_label, Window, delay (for determining vital data)\n",
    "    \n",
    "    In a time series dataset, it maintains a list of values.\n",
    "    We'll convert the list of values into a list of feature vectors,\n",
    "    each feature vector corresponds to a time point in the time series.\n",
    "    \n",
    "    For example: a time series [1,2,3,4,5] --> a featured dataset [[1,2,3],[2,3,4],[3,4,5]] (use one window size 3)\n",
    "    \n",
    "    The labels for the feature vectors are remained and returned.\n",
    "    \n",
    "    time_series: a list of values, an array\n",
    "    time_series_label: a list of labels, an array\n",
    "    Windows: the window sizes for time series feature extraction, an array\n",
    "    delay: the maximum delay for effectively detect an anomaly\n",
    "    \n",
    "    Output: features_for_the_timeseries (a list of arrays), \n",
    "            labels_for_the_timeseries (a list of arrays), \n",
    "            vital_labels_for_the_timeseries (a list of arrays)\n",
    "    \"\"\"    \n",
    "    data = []\n",
    "    data_label = []\n",
    "    data_label_vital = []\n",
    "    \n",
    "    start_point = 2*max(Windows)\n",
    "    start_accum = 0\n",
    "    \n",
    "    # features from tsa models\n",
    "    time_series_SARIMA_residuals = get_feature_SARIMA_residuals(time_series)\n",
    "    time_series_AddES_residuals = get_feature_AddES_residuals(time_series)\n",
    "    time_series_SimpleES_residuals = get_feature_SimpleES_residuals(time_series)\n",
    "    time_Series_Holt_residuals = get_feature_Holt_residuals(time_series)\n",
    "    \n",
    "    # features from tsa models for time series logarithm\n",
    "    time_series_logs = get_feature_logs(time_series)\n",
    "    \n",
    "    # 针对每一个时刻，得到一系列特征（ 9 + 12 * n ）\n",
    "    for i in np.arange(start_point, len(time_series)):        \n",
    "        # the datum to put into the data pool\n",
    "        datum = []\n",
    "        datum_label = time_series_label[i]        \n",
    "        \n",
    "        # fill the datum with f01-f09\n",
    "        diff_plain = time_series[i] - time_series[i-1]\n",
    "        start_accum = start_accum + time_series[i]\n",
    "        mean_accum = (start_accum)/(i-start_point+1)\n",
    "        \n",
    "        # f01-f04: residuals\n",
    "        datum.append(time_series_SARIMA_residuals[i])\n",
    "        datum.append(time_series_AddES_residuals[i])\n",
    "        datum.append(time_series_SimpleES_residuals[i])\n",
    "        datum.append(time_Series_Holt_residuals[i])\n",
    "        # f05: logarithm\n",
    "        datum.append(time_series_logs[i])\n",
    "        \n",
    "        # f06: diff\n",
    "        datum.append(diff_plain)\n",
    "        # f07: diff percentage\n",
    "        datum.append(diff_plain/(time_series[i-1] + 1e-10))  # to avoid 0, plus 1e-10\n",
    "        # f08: diff of diff - derivative\n",
    "        datum.append(diff_plain - (time_series[i-1] - time_series[i-2]))\n",
    "        # f09: diff of accumulated mean and current value\n",
    "        datum.append(time_series[i] - mean_accum)\n",
    "\n",
    "        # fill the datum with features related to windows\n",
    "        # loop over different windows size to fill the datum\n",
    "        for k in Windows:\n",
    "            mean_w = np.mean(time_series[i-k:i+1])\n",
    "            var_w = np.mean((np.asarray(time_series[i-k:i+1]) - mean_w)**2)\n",
    "            #var_w = np.var(time_series[i-k:i+1])\n",
    "            \n",
    "            mean_w_and_1 = mean_w + (time_series[i-k-1]-time_series[i])/(k+1)\n",
    "            var_w_and_1 = np.mean((np.asarray(time_series[i-k-1:i]) - mean_w_and_1)**2)\n",
    "            #mean_w_and_1 = np.mean(time_series[i-k-1:i])\n",
    "            #var_w_and_1 = np.var(time_series[i-k-1:i])\n",
    "            \n",
    "            mean_2w = np.mean(time_series[i-2*k:i-k+1])\n",
    "            var_2w = np.mean((np.asarray(time_series[i-2*k:i-k+1]) - mean_2w)**2)\n",
    "            #var_2w = np.var(time_series[i-2*k:i-k+1])\n",
    "            \n",
    "            # diff of sliding windows\n",
    "            diff_mean_1 = mean_w - mean_w_and_1\n",
    "            diff_var_1 = var_w - var_w_and_1\n",
    "            \n",
    "            # diff of jumping windows\n",
    "            diff_mean_w = mean_w - mean_2w\n",
    "            diff_var_w = var_w - var_2w\n",
    "            \n",
    "            # f1\n",
    "            datum.append(mean_w)  # [0:2] is [0,1]\n",
    "            # f2\n",
    "            datum.append(var_w)\n",
    "            # f3\n",
    "            datum.append(diff_mean_1)\n",
    "            # f4\n",
    "            datum.append(diff_mean_1/(mean_w_and_1 + 1e-10))\n",
    "            # f5\n",
    "            datum.append(diff_var_1)\n",
    "            # f6\n",
    "            datum.append(diff_var_1/(var_w_and_1 + 1e-10))\n",
    "            # f7\n",
    "            datum.append(diff_mean_w)\n",
    "            # f8\n",
    "            datum.append(diff_mean_w/(mean_2w + 1e-10))\n",
    "            # f9\n",
    "            datum.append(diff_var_w)\n",
    "            # f10\n",
    "            datum.append(diff_var_w/(var_2w + 1e-10))\n",
    "            \n",
    "            # diff of sliding/jumping windows and current value\n",
    "            # f11\n",
    "            datum.append(time_series[i] - mean_w_and_1)\n",
    "            # f12\n",
    "            datum.append(time_series[i] - mean_2w)\n",
    "\n",
    "        data.append(np.asarray(datum)) # 将此时刻产生的特征转换为 ndarray ，放入data列表中\n",
    "        data_label.append(np.asarray(datum_label))\n",
    "\n",
    "        # an important step is to identify the start anomalous points which are said to be critical\n",
    "        # if the anomaly is detected within delay window of the occurence of the first anomaly\n",
    "        if datum_label == 1 and sum(time_series_label[i-delay:i]) < delay:\n",
    "            # 如果成立，说明是在时延内首次出现异常\n",
    "            data_label_vital.append(np.asarray(1))\n",
    "        else:\n",
    "            data_label_vital.append(np.asarray(0))\n",
    "            \n",
    "    return data, data_label, data_label_vital"
   ]
  },
  {
   "cell_type": "code",
   "execution_count": 14,
   "metadata": {
    "collapsed": true
   },
   "outputs": [],
   "source": [
    "num_of_feature_with_value = 9\n",
    "num_of_feature_with_window = 12"
   ]
  },
  {
   "cell_type": "markdown",
   "metadata": {},
   "source": [
    "## 4、过采样"
   ]
  },
  {
   "cell_type": "code",
   "execution_count": 15,
   "metadata": {
    "collapsed": true
   },
   "outputs": [],
   "source": [
    "def get_expanded_featuers_and_labels(data_pool, data_pool_label, data_pool_label_vital, oversample=0):\n",
    "    \n",
    "    assert(len(data_pool) == len(data_pool_label) == len(data_pool_label_vital))\n",
    "\n",
    "    if oversample == 0:\n",
    "        return data_pool, data_pool_label\n",
    "    \n",
    "    data_pool_len = len(data_pool)\n",
    "    \n",
    "    # the data points and labels to be appended into the data/label pool\n",
    "    data_pool_plus = []\n",
    "    data_pool_plus_label = []\n",
    "    for i in np.arange(data_pool_len):\n",
    "        if data_pool_label[i] == 1: # anomalous point\n",
    "            data_pool_plus.append(data_pool[i])\n",
    "            data_pool_plus_label.append(data_pool_label[i])\n",
    "\n",
    "    # the data points and labels to be appended into the data/label pool (critical ones)\n",
    "    data_pool_vital = []\n",
    "    data_pool_vital_label = []\n",
    "    for i in np.arange(data_pool_len):\n",
    "        if data_pool_label_vital[i] == 1: # vital anomalous point\n",
    "            data_pool_vital.append(data_pool[i])\n",
    "            data_pool_vital_label.append(data_pool_label_vital[i])\n",
    "\n",
    "    # oversample abnormal data instances and vital abnormal data instances to balance the dataset\n",
    "    data_pool_complete = data_pool + \\\n",
    "                         oversample * data_pool_plus + \\\n",
    "                         oversample * data_pool_vital\n",
    "    # list可以直接 + 和 * ，相当于组合到一起\n",
    "    # a = [[1,2,3],[5,6,7]]   b = [[11,22,33]]    c = a + 2* b  ====>  [[1, 2, 3], [5, 6, 7], [11, 22, 33], [11, 22, 33]]\n",
    "    data_pool_complete_label = data_pool_label + \\\n",
    "                               oversample * data_pool_plus_label + \\\n",
    "                               oversample * data_pool_vital_label\n",
    "\n",
    "    assert(len(data_pool_complete) == len(data_pool_complete_label))\n",
    "    print('The augment size of the dataset: %d = %d + %d * %d + %d * %d' %(len(data_pool_complete),\n",
    "                                                                           len(data_pool),\n",
    "                                                                           oversample,\n",
    "                                                                           len(data_pool_plus),\n",
    "                                                                           oversample,\n",
    "                                                                           len(data_pool_vital)))\n",
    "\n",
    "    # data_pool_complete (X) and data_pool_complete_label (y) should be ready for training\n",
    "    return data_pool_complete, data_pool_complete_label"
   ]
  },
  {
   "cell_type": "markdown",
   "metadata": {},
   "source": [
    "## 5、生成样本集"
   ]
  },
  {
   "cell_type": "markdown",
   "metadata": {},
   "source": [
    "### 训练集生成"
   ]
  },
  {
   "cell_type": "code",
   "execution_count": 16,
   "metadata": {
    "collapsed": true
   },
   "outputs": [
    {
     "name": "stderr",
     "output_type": "stream",
     "text": [
      "C:\\Users\\10938\\AppData\\Roaming\\Python\\Python36\\site-packages\\statsmodels\\base\\model.py:508: ConvergenceWarning: Maximum Likelihood optimization failed to converge. Check mle_retvals\n",
      "  \"Check mle_retvals\", ConvergenceWarning)\n",
      "D:\\D(Program)\\AI\\Anaconda3-4.3.1\\lib\\site-packages\\sklearn\\preprocessing\\data.py:160: UserWarning: Numerical issues were encountered when centering the data and might not be solved. Dataset may contain too large values. You may need to prescale your features.\n",
      "  warnings.warn(\"Numerical issues were encountered \"\n",
      "D:\\D(Program)\\AI\\Anaconda3-4.3.1\\lib\\site-packages\\sklearn\\preprocessing\\data.py:160: UserWarning: Numerical issues were encountered when centering the data and might not be solved. Dataset may contain too large values. You may need to prescale your features.\n",
      "  warnings.warn(\"Numerical issues were encountered \"\n",
      "D:\\D(Program)\\AI\\Anaconda3-4.3.1\\lib\\site-packages\\sklearn\\preprocessing\\data.py:160: UserWarning: Numerical issues were encountered when centering the data and might not be solved. Dataset may contain too large values. You may need to prescale your features.\n",
      "  warnings.warn(\"Numerical issues were encountered \"\n",
      "D:\\D(Program)\\AI\\Anaconda3-4.3.1\\lib\\site-packages\\sklearn\\preprocessing\\data.py:160: UserWarning: Numerical issues were encountered when centering the data and might not be solved. Dataset may contain too large values. You may need to prescale your features.\n",
      "  warnings.warn(\"Numerical issues were encountered \"\n",
      "D:\\D(Program)\\AI\\Anaconda3-4.3.1\\lib\\site-packages\\sklearn\\preprocessing\\data.py:160: UserWarning: Numerical issues were encountered when centering the data and might not be solved. Dataset may contain too large values. You may need to prescale your features.\n",
      "  warnings.warn(\"Numerical issues were encountered \"\n",
      "D:\\D(Program)\\AI\\Anaconda3-4.3.1\\lib\\site-packages\\sklearn\\preprocessing\\data.py:160: UserWarning: Numerical issues were encountered when centering the data and might not be solved. Dataset may contain too large values. You may need to prescale your features.\n",
      "  warnings.warn(\"Numerical issues were encountered \"\n",
      "D:\\D(Program)\\AI\\Anaconda3-4.3.1\\lib\\site-packages\\sklearn\\preprocessing\\data.py:160: UserWarning: Numerical issues were encountered when centering the data and might not be solved. Dataset may contain too large values. You may need to prescale your features.\n",
      "  warnings.warn(\"Numerical issues were encountered \"\n",
      "D:\\D(Program)\\AI\\Anaconda3-4.3.1\\lib\\site-packages\\sklearn\\preprocessing\\data.py:160: UserWarning: Numerical issues were encountered when centering the data and might not be solved. Dataset may contain too large values. You may need to prescale your features.\n",
      "  warnings.warn(\"Numerical issues were encountered \"\n"
     ]
    },
    {
     "name": "stdout",
     "output_type": "stream",
     "text": [
      "The augment size of the dataset: 3083807 = 2998266 + 1 * 78963 + 1 * 6578\n"
     ]
    }
   ],
   "source": [
    "# 1) feature engineering for training dataset\n",
    "# specify the set of window sizes\n",
    "# the maximum number is 125 means the start point to consider anomalies is 250, i.e., max(2W).\n",
    "W = np.asarray([2, 5, 10, 25, 50, 100])\n",
    "delay = 7\n",
    "\n",
    "# training: data pool for labeled data points (presented by 6n+2 features)\n",
    "train_data_pool = []\n",
    "train_data_pool_label = []\n",
    "train_data_pool_label_vital = []\n",
    "\n",
    "# loop over all the time series\n",
    "for i in np.arange(train_time_series_dataset_size):    \n",
    "    # loop over all the data points in each time series\n",
    "    data, \\\n",
    "    data_label, \\\n",
    "    data_label_vital = get_features_and_labels_from_a_time_series(train_time_series_dataset_scaled[i],\n",
    "                                                                  train_time_series_dataset_label[i],\n",
    "                                                                  W, delay)\n",
    "    train_data_pool = train_data_pool + list(scale(np.asarray(data)))\n",
    "    #train_data_pool = train_data_pool + list(minmax_scale(abs(np.asarray(data))))\n",
    "    #train_data_pool = train_data_pool + list(maxabs_scale(np.asarray(data)))\n",
    "    \n",
    "    train_data_pool_label = train_data_pool_label + data_label\n",
    "    train_data_pool_label_vital = train_data_pool_label_vital + data_label_vital\n",
    "    \n",
    "# 2) over sampling\n",
    "# the methodology to achieve over sampling is to pick samples from train_data according to train_data_label\n",
    "# data_pool + data_pool_plus + data_pool_vital, there are three datasets to be merged\n",
    "# data_pool_label + data_pool_plus_label + data_pool_vital_label, there are three label datasets to be merged\n",
    "train_data_pool_complete, \\\n",
    "train_data_pool_complete_label = get_expanded_featuers_and_labels(train_data_pool, \n",
    "                                                                  train_data_pool_label, \n",
    "                                                                  train_data_pool_label_vital,\n",
    "                                                                  1)\n",
    "\n",
    "# now oversampling is set to 1, use oversampling currenlty .\n",
    "# default oversampling is set to 0, do not use oversampling .\n"
   ]
  },
  {
   "cell_type": "code",
   "execution_count": 17,
   "metadata": {
    "collapsed": true
   },
   "outputs": [
    {
     "name": "stdout",
     "output_type": "stream",
     "text": [
      "3083807\n",
      "3083807\n",
      "\n",
      "24670520\n",
      "<class 'list'>\n"
     ]
    }
   ],
   "source": [
    "# 查看生成样本集的数据大小\n",
    "import sys as sys\n",
    "\n",
    "print(len(train_data_pool_complete)) # 3083807 个样本\n",
    "print(len(train_data_pool_complete_label))\n",
    "print()\n",
    "print(sys.getsizeof(train_data_pool_complete)) # 占用内存 24 MB\n",
    "print(type(train_data_pool_complete)) # <class 'list'>\n"
   ]
  },
  {
   "cell_type": "code",
   "execution_count": 18,
   "metadata": {
    "collapsed": true
   },
   "outputs": [],
   "source": [
    "# 将样本集转换格式 list ==> DataFrame\n",
    "train_data_pool_df = pd.DataFrame(train_data_pool_complete)"
   ]
  },
  {
   "cell_type": "code",
   "execution_count": 20,
   "metadata": {
    "collapsed": true
   },
   "outputs": [
    {
     "data": {
      "text/html": [
       "<div>\n",
       "<style>\n",
       "    .dataframe thead tr:only-child th {\n",
       "        text-align: right;\n",
       "    }\n",
       "\n",
       "    .dataframe thead th {\n",
       "        text-align: left;\n",
       "    }\n",
       "\n",
       "    .dataframe tbody tr th {\n",
       "        vertical-align: top;\n",
       "    }\n",
       "</style>\n",
       "<table border=\"1\" class=\"dataframe\">\n",
       "  <thead>\n",
       "    <tr style=\"text-align: right;\">\n",
       "      <th></th>\n",
       "      <th>0</th>\n",
       "      <th>1</th>\n",
       "      <th>2</th>\n",
       "      <th>3</th>\n",
       "      <th>4</th>\n",
       "      <th>5</th>\n",
       "      <th>6</th>\n",
       "      <th>7</th>\n",
       "      <th>8</th>\n",
       "      <th>9</th>\n",
       "      <th>...</th>\n",
       "      <th>71</th>\n",
       "      <th>72</th>\n",
       "      <th>73</th>\n",
       "      <th>74</th>\n",
       "      <th>75</th>\n",
       "      <th>76</th>\n",
       "      <th>77</th>\n",
       "      <th>78</th>\n",
       "      <th>79</th>\n",
       "      <th>80</th>\n",
       "    </tr>\n",
       "  </thead>\n",
       "  <tbody>\n",
       "    <tr>\n",
       "      <th>0</th>\n",
       "      <td>-0.018788</td>\n",
       "      <td>0.073468</td>\n",
       "      <td>0.073468</td>\n",
       "      <td>0.073468</td>\n",
       "      <td>-1.145107</td>\n",
       "      <td>0.073468</td>\n",
       "      <td>-0.013250</td>\n",
       "      <td>0.009548</td>\n",
       "      <td>0.056581</td>\n",
       "      <td>-0.948387</td>\n",
       "      <td>...</td>\n",
       "      <td>-0.051566</td>\n",
       "      <td>-0.230354</td>\n",
       "      <td>-0.000636</td>\n",
       "      <td>-0.003924</td>\n",
       "      <td>-0.223233</td>\n",
       "      <td>-0.141639</td>\n",
       "      <td>-0.063276</td>\n",
       "      <td>-0.032383</td>\n",
       "      <td>-0.031694</td>\n",
       "      <td>-0.166324</td>\n",
       "    </tr>\n",
       "    <tr>\n",
       "      <th>1</th>\n",
       "      <td>-0.271323</td>\n",
       "      <td>-0.178255</td>\n",
       "      <td>-0.178255</td>\n",
       "      <td>-0.178255</td>\n",
       "      <td>-1.574228</td>\n",
       "      <td>-0.178255</td>\n",
       "      <td>-0.013252</td>\n",
       "      <td>-0.146349</td>\n",
       "      <td>0.022000</td>\n",
       "      <td>-0.954710</td>\n",
       "      <td>...</td>\n",
       "      <td>-0.221752</td>\n",
       "      <td>-0.981295</td>\n",
       "      <td>-0.003168</td>\n",
       "      <td>-0.004410</td>\n",
       "      <td>-0.223287</td>\n",
       "      <td>-0.142131</td>\n",
       "      <td>-0.063788</td>\n",
       "      <td>-0.032383</td>\n",
       "      <td>-0.171357</td>\n",
       "      <td>-0.236893</td>\n",
       "    </tr>\n",
       "    <tr>\n",
       "      <th>2</th>\n",
       "      <td>-0.008664</td>\n",
       "      <td>0.087477</td>\n",
       "      <td>0.087477</td>\n",
       "      <td>0.087477</td>\n",
       "      <td>-1.338475</td>\n",
       "      <td>0.087477</td>\n",
       "      <td>-0.013245</td>\n",
       "      <td>0.154495</td>\n",
       "      <td>0.056158</td>\n",
       "      <td>-0.957001</td>\n",
       "      <td>...</td>\n",
       "      <td>-0.070995</td>\n",
       "      <td>-0.323262</td>\n",
       "      <td>0.001632</td>\n",
       "      <td>-0.003484</td>\n",
       "      <td>-0.219050</td>\n",
       "      <td>-0.141822</td>\n",
       "      <td>-0.063717</td>\n",
       "      <td>-0.032383</td>\n",
       "      <td>-0.098656</td>\n",
       "      <td>-0.197864</td>\n",
       "    </tr>\n",
       "    <tr>\n",
       "      <th>3</th>\n",
       "      <td>0.138870</td>\n",
       "      <td>0.229519</td>\n",
       "      <td>0.229519</td>\n",
       "      <td>0.229519</td>\n",
       "      <td>-0.911476</td>\n",
       "      <td>0.229519</td>\n",
       "      <td>-0.013248</td>\n",
       "      <td>0.082582</td>\n",
       "      <td>0.123059</td>\n",
       "      <td>-0.938609</td>\n",
       "      <td>...</td>\n",
       "      <td>0.077939</td>\n",
       "      <td>0.348624</td>\n",
       "      <td>0.000694</td>\n",
       "      <td>-0.003668</td>\n",
       "      <td>-0.217817</td>\n",
       "      <td>-0.141508</td>\n",
       "      <td>-0.063663</td>\n",
       "      <td>-0.032383</td>\n",
       "      <td>0.083477</td>\n",
       "      <td>-0.104417</td>\n",
       "    </tr>\n",
       "    <tr>\n",
       "      <th>4</th>\n",
       "      <td>-0.067657</td>\n",
       "      <td>0.017137</td>\n",
       "      <td>0.017137</td>\n",
       "      <td>0.017137</td>\n",
       "      <td>-0.886366</td>\n",
       "      <td>0.017137</td>\n",
       "      <td>-0.013251</td>\n",
       "      <td>-0.123477</td>\n",
       "      <td>0.115086</td>\n",
       "      <td>-0.894323</td>\n",
       "      <td>...</td>\n",
       "      <td>-0.141127</td>\n",
       "      <td>-0.638072</td>\n",
       "      <td>-0.021254</td>\n",
       "      <td>-0.007887</td>\n",
       "      <td>-0.215472</td>\n",
       "      <td>-0.141558</td>\n",
       "      <td>-0.064059</td>\n",
       "      <td>-0.032384</td>\n",
       "      <td>0.095666</td>\n",
       "      <td>-0.094645</td>\n",
       "    </tr>\n",
       "  </tbody>\n",
       "</table>\n",
       "<p>5 rows × 81 columns</p>\n",
       "</div>"
      ],
      "text/plain": [
       "         0         1         2         3         4         5         6   \\\n",
       "0 -0.018788  0.073468  0.073468  0.073468 -1.145107  0.073468 -0.013250   \n",
       "1 -0.271323 -0.178255 -0.178255 -0.178255 -1.574228 -0.178255 -0.013252   \n",
       "2 -0.008664  0.087477  0.087477  0.087477 -1.338475  0.087477 -0.013245   \n",
       "3  0.138870  0.229519  0.229519  0.229519 -0.911476  0.229519 -0.013248   \n",
       "4 -0.067657  0.017137  0.017137  0.017137 -0.886366  0.017137 -0.013251   \n",
       "\n",
       "         7         8         9     ...           71        72        73  \\\n",
       "0  0.009548  0.056581 -0.948387    ...    -0.051566 -0.230354 -0.000636   \n",
       "1 -0.146349  0.022000 -0.954710    ...    -0.221752 -0.981295 -0.003168   \n",
       "2  0.154495  0.056158 -0.957001    ...    -0.070995 -0.323262  0.001632   \n",
       "3  0.082582  0.123059 -0.938609    ...     0.077939  0.348624  0.000694   \n",
       "4 -0.123477  0.115086 -0.894323    ...    -0.141127 -0.638072 -0.021254   \n",
       "\n",
       "         74        75        76        77        78        79        80  \n",
       "0 -0.003924 -0.223233 -0.141639 -0.063276 -0.032383 -0.031694 -0.166324  \n",
       "1 -0.004410 -0.223287 -0.142131 -0.063788 -0.032383 -0.171357 -0.236893  \n",
       "2 -0.003484 -0.219050 -0.141822 -0.063717 -0.032383 -0.098656 -0.197864  \n",
       "3 -0.003668 -0.217817 -0.141508 -0.063663 -0.032383  0.083477 -0.104417  \n",
       "4 -0.007887 -0.215472 -0.141558 -0.064059 -0.032384  0.095666 -0.094645  \n",
       "\n",
       "[5 rows x 81 columns]"
      ]
     },
     "execution_count": 20,
     "metadata": {},
     "output_type": "execute_result"
    }
   ],
   "source": [
    "train_data_pool_df.head(5) # 81 columns"
   ]
  },
  {
   "cell_type": "code",
   "execution_count": 31,
   "metadata": {
    "collapsed": false
   },
   "outputs": [
    {
     "name": "stdout",
     "output_type": "stream",
     "text": [
      "(3083807, 81)\n",
      "1998307040\n",
      "24670520\n"
     ]
    }
   ],
   "source": [
    "print(train_data_pool_df.shape) # (3083807, 81)\n",
    "print(sys.getsizeof(train_data_pool_df)) # 近 2G\n",
    "print(sys.getsizeof(train_data_pool_complete)) # 近 24MB"
   ]
  },
  {
   "cell_type": "code",
   "execution_count": 22,
   "metadata": {
    "collapsed": false
   },
   "outputs": [],
   "source": [
    "train_data_pool_df.to_csv('../output/train_data.csv', index=False)"
   ]
  },
  {
   "cell_type": "code",
   "execution_count": 26,
   "metadata": {
    "collapsed": false
   },
   "outputs": [
    {
     "name": "stdout",
     "output_type": "stream",
     "text": [
      "(3083807, 1)\n"
     ]
    }
   ],
   "source": [
    "train_data_pool_label_df = pd.DataFrame(train_data_pool_complete_label)\n",
    "print(train_data_pool_label_df.shape) # (3083807, 1)\n",
    "train_data_pool_label_df.to_csv('../output/train_data_label.csv', index=False)"
   ]
  },
  {
   "cell_type": "code",
   "execution_count": 27,
   "metadata": {
    "collapsed": false
   },
   "outputs": [
    {
     "data": {
      "text/plain": [
       "(100000, 81)"
      ]
     },
     "execution_count": 27,
     "metadata": {},
     "output_type": "execute_result"
    }
   ],
   "source": [
    "# 随机采样，存10万数据\n",
    "# Extracting 0 th time series with index 0 and 107717 (exclusive)\n",
    "\n",
    "train_data_part_df = train_data_pool_df.iloc[0:100000,:]\n",
    "train_data_part_df.shape #(100000, 81)"
   ]
  },
  {
   "cell_type": "code",
   "execution_count": 28,
   "metadata": {
    "collapsed": false
   },
   "outputs": [
    {
     "data": {
      "text/plain": [
       "(100000, 1)"
      ]
     },
     "execution_count": 28,
     "metadata": {},
     "output_type": "execute_result"
    }
   ],
   "source": [
    "\n",
    "train_data_part_label_df = train_data_pool_label_df.iloc[0:100000,:]\n",
    "train_data_part_label_df.shape #(100000, 1)"
   ]
  },
  {
   "cell_type": "code",
   "execution_count": 29,
   "metadata": {
    "collapsed": true
   },
   "outputs": [],
   "source": [
    "train_data_part_df.to_csv('../output/train_data_part.csv', index=False) # 159MB\n",
    "train_data_part_label_df.to_csv('../output/train_data_label_part.csv', index=False) #292KB\n",
    "# 数据集 0样本：96881  1样本：6119"
   ]
  },
  {
   "cell_type": "code",
   "execution_count": 35,
   "metadata": {
    "collapsed": false
   },
   "outputs": [
    {
     "name": "stdout",
     "output_type": "stream",
     "text": [
      "(3083807, 82)\n"
     ]
    }
   ],
   "source": [
    "# 随机抽取20万样本\n",
    "train_sample = train_data_pool_df\n",
    "train_sample['label'] = train_data_pool_label_df[0]\n",
    "print(train_sample.shape)"
   ]
  },
  {
   "cell_type": "code",
   "execution_count": 36,
   "metadata": {
    "collapsed": false
   },
   "outputs": [],
   "source": [
    "# 抽样\n",
    "train_sample = train_sample.sample(n=200000)\n",
    "train_sample.to_csv('../output/train_sample_200000.csv', index=False)"
   ]
  },
  {
   "cell_type": "code",
   "execution_count": null,
   "metadata": {
    "collapsed": true
   },
   "outputs": [],
   "source": [
    "#### store the data_pool and data_pool_flag into csv file\n",
    "train_data_pool_df = pd.DataFrame(train_data_pool_complete)\n",
    "train_data_pool_df.to_csv('../output/train_data.csv', index=False)\n",
    "train_data_pool_label_df = pd.DataFrame(train_data_pool_complete_label)\n",
    "train_data_pool_label_df.to_csv('../output/train_data_label.csv', index=False)\n",
    "\n",
    "\"\"\"\n",
    "#### read training dataset as pandas dataframes\n",
    "train_data_pool_df = pd.read_csv('train_data.csv')\n",
    "train_data_pool = list(np.asarray(train_data_pool_df))\n",
    "train_data_pool_label_df = pd.read_csv('train_data_label.csv')\n",
    "train_data_pool_label = list(np.asarray(train_data_pool_label_df))\n",
    "\"\"\""
   ]
  },
  {
   "cell_type": "markdown",
   "metadata": {},
   "source": [
    "### 测试集生成\n",
    "\n",
    "因为数据集较大，暂时先不用了。  \n",
    "算法实验暂时使用取样的 100000 个样本集"
   ]
  },
  {
   "cell_type": "code",
   "execution_count": null,
   "metadata": {
    "collapsed": true
   },
   "outputs": [],
   "source": [
    "# feature engineering for testing dataset, a list of sequences\n",
    "test_data_pool = []\n",
    "\n",
    "# loop over all the time series\n",
    "for i in np.arange(test_time_series_dataset_size):        \n",
    "    # loop over all the data points in each time series\n",
    "    data, \\\n",
    "    data_label, \\\n",
    "    data_label_vital = get_features_and_labels_from_a_time_series(test_time_series_dataset_scaled[i],\n",
    "                                                                  test_time_series_dataset_label[i],\n",
    "                                                                  W, delay)\n",
    "    \n",
    "    test_data_pool = test_data_pool + [list(scale(np.asarray(data)))]\n",
    "    #test_data_pool = test_data_pool + [list(minmax_scale(abs(np.asarray(data))))]\n",
    "    #test_data_pool = test_data_pool + [list(maxabs_scale(np.asarray(data)))]    \n",
    "\n",
    "# due to the use of sliding windows, there should has (example):\n",
    "print('The length of a time series, e.g., %d, is %d longer than that of its feature vectors, e.g., %d.' \n",
    "      %(len(test_time_series_dataset_scaled[0]), 2*max(W), len(test_data_pool[0])))"
   ]
  },
  {
   "cell_type": "code",
   "execution_count": null,
   "metadata": {
    "collapsed": true
   },
   "outputs": [],
   "source": [
    "\"\"\"\n",
    "#### store testing dataset into csv file\n",
    "test_data_pool_df = pd.DataFrame(test_data_pool)\n",
    "test_data_pool_df.to_csv('test_data.csv', index=False)\n",
    "\n",
    "#### read testing dataset as pandas dataframes\n",
    "test_data_pool_df = pd.read_csv('test_data.csv')\n",
    "test_data_pool = list(np.asarray(train_data_pool_label_vital_df))\n",
    "\"\"\""
   ]
  },
  {
   "cell_type": "code",
   "execution_count": null,
   "metadata": {
    "collapsed": true
   },
   "outputs": [],
   "source": []
  }
 ],
 "metadata": {
  "kernelspec": {
   "display_name": "Python 3",
   "language": "python",
   "name": "python3"
  },
  "language_info": {
   "codemirror_mode": {
    "name": "ipython",
    "version": 3
   },
   "file_extension": ".py",
   "mimetype": "text/x-python",
   "name": "python",
   "nbconvert_exporter": "python",
   "pygments_lexer": "ipython3",
   "version": "3.6.0"
  }
 },
 "nbformat": 4,
 "nbformat_minor": 2
}

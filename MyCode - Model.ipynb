{
 "cells": [
  {
   "cell_type": "markdown",
   "metadata": {},
   "source": [
    "## 1、读取数据"
   ]
  },
  {
   "cell_type": "code",
   "execution_count": 2,
   "metadata": {
    "collapsed": true
   },
   "outputs": [],
   "source": [
    "import numpy as np\n",
    "import pandas as pd\n",
    "\n",
    "# 读取数据\n",
    "xtrain = pd.read_csv('../output/train_data_part.csv')\n",
    "ytrain = pd.read_csv('../output/train_data_label_part.csv')"
   ]
  },
  {
   "cell_type": "code",
   "execution_count": 3,
   "metadata": {
    "collapsed": false
   },
   "outputs": [
    {
     "name": "stdout",
     "output_type": "stream",
     "text": [
      "(100000, 81)\n",
      "(100000, 1)\n"
     ]
    }
   ],
   "source": [
    "# 查看数据集\n",
    "print(xtrain.shape)\n",
    "print(ytrain.shape)"
   ]
  },
  {
   "cell_type": "code",
   "execution_count": 3,
   "metadata": {
    "collapsed": true
   },
   "outputs": [
    {
     "data": {
      "text/html": [
       "<div>\n",
       "<style>\n",
       "    .dataframe thead tr:only-child th {\n",
       "        text-align: right;\n",
       "    }\n",
       "\n",
       "    .dataframe thead th {\n",
       "        text-align: left;\n",
       "    }\n",
       "\n",
       "    .dataframe tbody tr th {\n",
       "        vertical-align: top;\n",
       "    }\n",
       "</style>\n",
       "<table border=\"1\" class=\"dataframe\">\n",
       "  <thead>\n",
       "    <tr style=\"text-align: right;\">\n",
       "      <th></th>\n",
       "      <th>0</th>\n",
       "      <th>1</th>\n",
       "      <th>2</th>\n",
       "      <th>3</th>\n",
       "      <th>4</th>\n",
       "      <th>5</th>\n",
       "      <th>6</th>\n",
       "      <th>7</th>\n",
       "      <th>8</th>\n",
       "      <th>9</th>\n",
       "      <th>...</th>\n",
       "      <th>71</th>\n",
       "      <th>72</th>\n",
       "      <th>73</th>\n",
       "      <th>74</th>\n",
       "      <th>75</th>\n",
       "      <th>76</th>\n",
       "      <th>77</th>\n",
       "      <th>78</th>\n",
       "      <th>79</th>\n",
       "      <th>80</th>\n",
       "    </tr>\n",
       "  </thead>\n",
       "  <tbody>\n",
       "    <tr>\n",
       "      <th>count</th>\n",
       "      <td>100000.000000</td>\n",
       "      <td>100000.000000</td>\n",
       "      <td>100000.000000</td>\n",
       "      <td>100000.000000</td>\n",
       "      <td>100000.000000</td>\n",
       "      <td>100000.000000</td>\n",
       "      <td>100000.000000</td>\n",
       "      <td>1.000000e+05</td>\n",
       "      <td>100000.000000</td>\n",
       "      <td>100000.000000</td>\n",
       "      <td>...</td>\n",
       "      <td>100000.000000</td>\n",
       "      <td>100000.000000</td>\n",
       "      <td>100000.000000</td>\n",
       "      <td>100000.000000</td>\n",
       "      <td>100000.000000</td>\n",
       "      <td>100000.000000</td>\n",
       "      <td>100000.000000</td>\n",
       "      <td>100000.000000</td>\n",
       "      <td>100000.000000</td>\n",
       "      <td>100000.000000</td>\n",
       "    </tr>\n",
       "    <tr>\n",
       "      <th>mean</th>\n",
       "      <td>-0.000470</td>\n",
       "      <td>0.000072</td>\n",
       "      <td>0.000072</td>\n",
       "      <td>0.000072</td>\n",
       "      <td>-0.002198</td>\n",
       "      <td>0.000072</td>\n",
       "      <td>0.000996</td>\n",
       "      <td>6.975005e-07</td>\n",
       "      <td>-0.009762</td>\n",
       "      <td>-0.005536</td>\n",
       "      <td>...</td>\n",
       "      <td>0.002393</td>\n",
       "      <td>0.000319</td>\n",
       "      <td>0.000365</td>\n",
       "      <td>-0.000235</td>\n",
       "      <td>0.001502</td>\n",
       "      <td>-0.003082</td>\n",
       "      <td>0.000726</td>\n",
       "      <td>0.000581</td>\n",
       "      <td>0.002426</td>\n",
       "      <td>0.002242</td>\n",
       "    </tr>\n",
       "    <tr>\n",
       "      <th>std</th>\n",
       "      <td>0.978431</td>\n",
       "      <td>0.978277</td>\n",
       "      <td>0.978277</td>\n",
       "      <td>0.978277</td>\n",
       "      <td>0.997096</td>\n",
       "      <td>0.978277</td>\n",
       "      <td>1.036902</td>\n",
       "      <td>9.788348e-01</td>\n",
       "      <td>0.992110</td>\n",
       "      <td>0.993511</td>\n",
       "      <td>...</td>\n",
       "      <td>0.990668</td>\n",
       "      <td>0.977398</td>\n",
       "      <td>0.984417</td>\n",
       "      <td>1.024061</td>\n",
       "      <td>0.994915</td>\n",
       "      <td>1.008307</td>\n",
       "      <td>1.004658</td>\n",
       "      <td>1.035126</td>\n",
       "      <td>0.988200</td>\n",
       "      <td>0.993562</td>\n",
       "    </tr>\n",
       "    <tr>\n",
       "      <th>min</th>\n",
       "      <td>-21.863966</td>\n",
       "      <td>-22.508281</td>\n",
       "      <td>-22.508281</td>\n",
       "      <td>-22.508281</td>\n",
       "      <td>-1.642211</td>\n",
       "      <td>-22.508281</td>\n",
       "      <td>-0.013252</td>\n",
       "      <td>-2.456488e+01</td>\n",
       "      <td>-1.742585</td>\n",
       "      <td>-1.000685</td>\n",
       "      <td>...</td>\n",
       "      <td>-10.807765</td>\n",
       "      <td>-18.108279</td>\n",
       "      <td>-54.558363</td>\n",
       "      <td>-0.043788</td>\n",
       "      <td>-3.152235</td>\n",
       "      <td>-0.174812</td>\n",
       "      <td>-15.010473</td>\n",
       "      <td>-0.032394</td>\n",
       "      <td>-4.409622</td>\n",
       "      <td>-3.979546</td>\n",
       "    </tr>\n",
       "    <tr>\n",
       "      <th>25%</th>\n",
       "      <td>-0.307057</td>\n",
       "      <td>-0.299403</td>\n",
       "      <td>-0.299403</td>\n",
       "      <td>-0.299403</td>\n",
       "      <td>-0.989487</td>\n",
       "      <td>-0.299403</td>\n",
       "      <td>-0.013251</td>\n",
       "      <td>-2.700328e-01</td>\n",
       "      <td>-0.858490</td>\n",
       "      <td>-0.878968</td>\n",
       "      <td>...</td>\n",
       "      <td>-0.461144</td>\n",
       "      <td>-0.322457</td>\n",
       "      <td>-0.043323</td>\n",
       "      <td>-0.004167</td>\n",
       "      <td>-0.560612</td>\n",
       "      <td>-0.130588</td>\n",
       "      <td>-0.133275</td>\n",
       "      <td>-0.032349</td>\n",
       "      <td>-0.472563</td>\n",
       "      <td>-0.548357</td>\n",
       "    </tr>\n",
       "    <tr>\n",
       "      <th>50%</th>\n",
       "      <td>-0.077280</td>\n",
       "      <td>-0.001864</td>\n",
       "      <td>-0.001864</td>\n",
       "      <td>-0.001864</td>\n",
       "      <td>0.183848</td>\n",
       "      <td>-0.001864</td>\n",
       "      <td>-0.013251</td>\n",
       "      <td>1.825807e-02</td>\n",
       "      <td>-0.284360</td>\n",
       "      <td>-0.267190</td>\n",
       "      <td>...</td>\n",
       "      <td>-0.026912</td>\n",
       "      <td>-0.073249</td>\n",
       "      <td>-0.000155</td>\n",
       "      <td>-0.003832</td>\n",
       "      <td>-0.053262</td>\n",
       "      <td>-0.097042</td>\n",
       "      <td>-0.004811</td>\n",
       "      <td>-0.032299</td>\n",
       "      <td>-0.044265</td>\n",
       "      <td>-0.052530</td>\n",
       "    </tr>\n",
       "    <tr>\n",
       "      <th>75%</th>\n",
       "      <td>0.302338</td>\n",
       "      <td>0.294727</td>\n",
       "      <td>0.294727</td>\n",
       "      <td>0.294727</td>\n",
       "      <td>0.852668</td>\n",
       "      <td>0.294727</td>\n",
       "      <td>-0.013250</td>\n",
       "      <td>3.496344e-01</td>\n",
       "      <td>0.567826</td>\n",
       "      <td>0.575011</td>\n",
       "      <td>...</td>\n",
       "      <td>0.384361</td>\n",
       "      <td>0.293805</td>\n",
       "      <td>0.050427</td>\n",
       "      <td>-0.003483</td>\n",
       "      <td>0.525322</td>\n",
       "      <td>0.007481</td>\n",
       "      <td>0.102585</td>\n",
       "      <td>-0.032149</td>\n",
       "      <td>0.298417</td>\n",
       "      <td>0.485266</td>\n",
       "    </tr>\n",
       "    <tr>\n",
       "      <th>max</th>\n",
       "      <td>20.234960</td>\n",
       "      <td>19.743646</td>\n",
       "      <td>19.743646</td>\n",
       "      <td>19.743646</td>\n",
       "      <td>2.557230</td>\n",
       "      <td>19.743646</td>\n",
       "      <td>178.464884</td>\n",
       "      <td>1.323438e+01</td>\n",
       "      <td>9.671382</td>\n",
       "      <td>8.400189</td>\n",
       "      <td>...</td>\n",
       "      <td>10.783979</td>\n",
       "      <td>202.106683</td>\n",
       "      <td>62.101843</td>\n",
       "      <td>323.310749</td>\n",
       "      <td>4.115963</td>\n",
       "      <td>57.688883</td>\n",
       "      <td>15.506098</td>\n",
       "      <td>49.490807</td>\n",
       "      <td>17.612170</td>\n",
       "      <td>10.038879</td>\n",
       "    </tr>\n",
       "  </tbody>\n",
       "</table>\n",
       "<p>8 rows × 81 columns</p>\n",
       "</div>"
      ],
      "text/plain": [
       "                   0              1              2              3  \\\n",
       "count  100000.000000  100000.000000  100000.000000  100000.000000   \n",
       "mean       -0.000470       0.000072       0.000072       0.000072   \n",
       "std         0.978431       0.978277       0.978277       0.978277   \n",
       "min       -21.863966     -22.508281     -22.508281     -22.508281   \n",
       "25%        -0.307057      -0.299403      -0.299403      -0.299403   \n",
       "50%        -0.077280      -0.001864      -0.001864      -0.001864   \n",
       "75%         0.302338       0.294727       0.294727       0.294727   \n",
       "max        20.234960      19.743646      19.743646      19.743646   \n",
       "\n",
       "                   4              5              6             7  \\\n",
       "count  100000.000000  100000.000000  100000.000000  1.000000e+05   \n",
       "mean       -0.002198       0.000072       0.000996  6.975005e-07   \n",
       "std         0.997096       0.978277       1.036902  9.788348e-01   \n",
       "min        -1.642211     -22.508281      -0.013252 -2.456488e+01   \n",
       "25%        -0.989487      -0.299403      -0.013251 -2.700328e-01   \n",
       "50%         0.183848      -0.001864      -0.013251  1.825807e-02   \n",
       "75%         0.852668       0.294727      -0.013250  3.496344e-01   \n",
       "max         2.557230      19.743646     178.464884  1.323438e+01   \n",
       "\n",
       "                   8              9      ...                   71  \\\n",
       "count  100000.000000  100000.000000      ...        100000.000000   \n",
       "mean       -0.009762      -0.005536      ...             0.002393   \n",
       "std         0.992110       0.993511      ...             0.990668   \n",
       "min        -1.742585      -1.000685      ...           -10.807765   \n",
       "25%        -0.858490      -0.878968      ...            -0.461144   \n",
       "50%        -0.284360      -0.267190      ...            -0.026912   \n",
       "75%         0.567826       0.575011      ...             0.384361   \n",
       "max         9.671382       8.400189      ...            10.783979   \n",
       "\n",
       "                  72             73             74             75  \\\n",
       "count  100000.000000  100000.000000  100000.000000  100000.000000   \n",
       "mean        0.000319       0.000365      -0.000235       0.001502   \n",
       "std         0.977398       0.984417       1.024061       0.994915   \n",
       "min       -18.108279     -54.558363      -0.043788      -3.152235   \n",
       "25%        -0.322457      -0.043323      -0.004167      -0.560612   \n",
       "50%        -0.073249      -0.000155      -0.003832      -0.053262   \n",
       "75%         0.293805       0.050427      -0.003483       0.525322   \n",
       "max       202.106683      62.101843     323.310749       4.115963   \n",
       "\n",
       "                  76             77             78             79  \\\n",
       "count  100000.000000  100000.000000  100000.000000  100000.000000   \n",
       "mean       -0.003082       0.000726       0.000581       0.002426   \n",
       "std         1.008307       1.004658       1.035126       0.988200   \n",
       "min        -0.174812     -15.010473      -0.032394      -4.409622   \n",
       "25%        -0.130588      -0.133275      -0.032349      -0.472563   \n",
       "50%        -0.097042      -0.004811      -0.032299      -0.044265   \n",
       "75%         0.007481       0.102585      -0.032149       0.298417   \n",
       "max        57.688883      15.506098      49.490807      17.612170   \n",
       "\n",
       "                  80  \n",
       "count  100000.000000  \n",
       "mean        0.002242  \n",
       "std         0.993562  \n",
       "min        -3.979546  \n",
       "25%        -0.548357  \n",
       "50%        -0.052530  \n",
       "75%         0.485266  \n",
       "max        10.038879  \n",
       "\n",
       "[8 rows x 81 columns]"
      ]
     },
     "execution_count": 3,
     "metadata": {},
     "output_type": "execute_result"
    }
   ],
   "source": [
    "xtrain.describe()\n",
    "# 缺失，数据集非常好"
   ]
  },
  {
   "cell_type": "code",
   "execution_count": 6,
   "metadata": {
    "collapsed": false
   },
   "outputs": [
    {
     "data": {
      "text/plain": [
       "0    93881\n",
       "1     6119\n",
       "Name: 0, dtype: int64"
      ]
     },
     "execution_count": 6,
     "metadata": {},
     "output_type": "execute_result"
    }
   ],
   "source": [
    "ytrain['0'].value_counts() #查看标签类别的统计"
   ]
  },
  {
   "cell_type": "markdown",
   "metadata": {},
   "source": [
    "## 2、划分数据集"
   ]
  },
  {
   "cell_type": "code",
   "execution_count": 4,
   "metadata": {
    "collapsed": true
   },
   "outputs": [],
   "source": [
    "# 划分数据集\n",
    "\n",
    "from sklearn.model_selection import train_test_split\n",
    "from sklearn import metrics\n",
    "\n",
    "X_train,X_test,y_train,y_test=train_test_split(xtrain,ytrain,test_size=0.2,random_state=0)"
   ]
  },
  {
   "cell_type": "code",
   "execution_count": 6,
   "metadata": {
    "collapsed": true
   },
   "outputs": [],
   "source": [
    "from sklearn.metrics import accuracy_score,confusion_matrix,\\\n",
    "    f1_score,log_loss,recall_score,\\\n",
    "    precision_score,roc_auc_score,classification_report"
   ]
  },
  {
   "cell_type": "markdown",
   "metadata": {},
   "source": [
    "## 3、模型"
   ]
  },
  {
   "cell_type": "markdown",
   "metadata": {},
   "source": [
    "### LR"
   ]
  },
  {
   "cell_type": "code",
   "execution_count": 6,
   "metadata": {
    "collapsed": false
   },
   "outputs": [
    {
     "name": "stderr",
     "output_type": "stream",
     "text": [
      "D:\\D(Program)\\AI\\Anaconda3-4.3.1\\lib\\site-packages\\sklearn\\utils\\validation.py:547: DataConversionWarning: A column-vector y was passed when a 1d array was expected. Please change the shape of y to (n_samples, ), for example using ravel().\n",
      "  y = column_or_1d(y, warn=True)\n"
     ]
    },
    {
     "name": "stdout",
     "output_type": "stream",
     "text": [
      "It took 11 seconds to train the model!\n",
      "\n",
      "模型及模型参数：\n",
      "LogisticRegression(C=1.0, class_weight=None, dual=False, fit_intercept=True,\n",
      "          intercept_scaling=1, max_iter=100, multi_class='ovr', n_jobs=1,\n",
      "          penalty='l2', random_state=None, solver='liblinear', tol=0.0001,\n",
      "          verbose=0, warm_start=False)\n",
      "模型评估：\n",
      "Accuracy: 0.94335\n",
      "F1 score: 0.186647523331\n",
      "Recall: 0.109060402685\n",
      "Precision: 0.646766169154\n",
      "\n",
      " clasification report:\n",
      "              precision    recall  f1-score   support\n",
      "\n",
      "          0       0.95      1.00      0.97     18808\n",
      "          1       0.65      0.11      0.19      1192\n",
      "\n",
      "avg / total       0.93      0.94      0.92     20000\n",
      "\n",
      "\n",
      " confussion matrix:\n",
      " [[18737    71]\n",
      " [ 1062   130]]\n"
     ]
    }
   ],
   "source": [
    "# LR\n",
    "from sklearn import linear_model\n",
    "import time\n",
    "cls=linear_model.LogisticRegression()\n",
    "\n",
    "start_time = time.time()\n",
    "cls.fit(X_train,y_train)\n",
    "end_time = time.time()\n",
    "print('It took %d seconds to train the model!' %(end_time-start_time))\n",
    "print()\n",
    "\n",
    "y_pred=cls.predict(X_test)\n",
    "\n",
    "print(\"模型及模型参数：\")   \n",
    "print(str(cls))\n",
    "print(\"模型评估：\")\n",
    "print('Accuracy:', accuracy_score(y_test, y_pred))\n",
    "print('F1 score:', f1_score(y_test, y_pred))\n",
    "print('Recall:', recall_score(y_test, y_pred))\n",
    "print('Precision:', precision_score(y_test, y_pred))\n",
    "print ('\\n clasification report:\\n', classification_report(y_test, y_pred))\n",
    "print('\\n confussion matrix:\\n',confusion_matrix(y_test, y_pred))"
   ]
  },
  {
   "cell_type": "markdown",
   "metadata": {},
   "source": [
    "### XGBoost"
   ]
  },
  {
   "cell_type": "code",
   "execution_count": 7,
   "metadata": {
    "collapsed": false
   },
   "outputs": [
    {
     "name": "stderr",
     "output_type": "stream",
     "text": [
      "D:\\D(Program)\\AI\\Anaconda3-4.3.1\\lib\\site-packages\\sklearn\\preprocessing\\label.py:95: DataConversionWarning: A column-vector y was passed when a 1d array was expected. Please change the shape of y to (n_samples, ), for example using ravel().\n",
      "  y = column_or_1d(y, warn=True)\n",
      "D:\\D(Program)\\AI\\Anaconda3-4.3.1\\lib\\site-packages\\sklearn\\preprocessing\\label.py:128: DataConversionWarning: A column-vector y was passed when a 1d array was expected. Please change the shape of y to (n_samples, ), for example using ravel().\n",
      "  y = column_or_1d(y, warn=True)\n"
     ]
    },
    {
     "name": "stdout",
     "output_type": "stream",
     "text": [
      "It took 69 seconds to train the model!\n",
      "\n",
      "模型及模型参数：\n",
      "XGBClassifier(base_score=0.5, booster='gbtree', colsample_bylevel=1,\n",
      "       colsample_bytree=1, gamma=0, learning_rate=0.1, max_delta_step=0,\n",
      "       max_depth=3, min_child_weight=1, missing=None, n_estimators=100,\n",
      "       n_jobs=1, nthread=None, objective='binary:logistic', random_state=0,\n",
      "       reg_alpha=0, reg_lambda=1, scale_pos_weight=1, seed=None,\n",
      "       silent=True, subsample=1)\n",
      "模型评估：\n",
      "Accuracy: 0.98485\n",
      "F1 score: 0.867973856209\n",
      "Recall: 0.835570469799\n",
      "Precision: 0.902991840435\n",
      "\n",
      " clasification report:\n",
      "              precision    recall  f1-score   support\n",
      "\n",
      "          0       0.99      0.99      0.99     18808\n",
      "          1       0.90      0.84      0.87      1192\n",
      "\n",
      "avg / total       0.98      0.98      0.98     20000\n",
      "\n",
      "\n",
      " confussion matrix:\n",
      " [[18701   107]\n",
      " [  196   996]]\n"
     ]
    }
   ],
   "source": [
    "# XGBoost\n",
    "from xgboost.sklearn import XGBClassifier\n",
    "cls=XGBClassifier()\n",
    "\n",
    "start_time = time.time()\n",
    "cls.fit(X_train,y_train)\n",
    "end_time = time.time()\n",
    "print('It took %d seconds to train the model!' %(end_time-start_time))\n",
    "print()\n",
    "\n",
    "y_pred=cls.predict(X_test)\n",
    "\n",
    "print(\"模型及模型参数：\")   \n",
    "print(str(cls))\n",
    "print(\"模型评估：\")\n",
    "print('Accuracy:', accuracy_score(y_test, y_pred))\n",
    "print('F1 score:', f1_score(y_test, y_pred))\n",
    "print('Recall:', recall_score(y_test, y_pred))\n",
    "print('Precision:', precision_score(y_test, y_pred))\n",
    "print ('\\n clasification report:\\n', classification_report(y_test, y_pred))\n",
    "print('\\n confussion matrix:\\n',confusion_matrix(y_test, y_pred))"
   ]
  },
  {
   "cell_type": "markdown",
   "metadata": {},
   "source": [
    "### 各种其它模型效果"
   ]
  },
  {
   "cell_type": "code",
   "execution_count": 10,
   "metadata": {
    "collapsed": false,
    "scrolled": true
   },
   "outputs": [
    {
     "name": "stdout",
     "output_type": "stream",
     "text": [
      "==============================\n"
     ]
    },
    {
     "name": "stderr",
     "output_type": "stream",
     "text": [
      "D:\\D(Program)\\AI\\Anaconda3-4.3.1\\lib\\site-packages\\sklearn\\utils\\validation.py:547: DataConversionWarning: A column-vector y was passed when a 1d array was expected. Please change the shape of y to (n_samples, ), for example using ravel().\n",
      "  y = column_or_1d(y, warn=True)\n"
     ]
    },
    {
     "name": "stdout",
     "output_type": "stream",
     "text": [
      "It took 11 seconds to train the model!\n",
      "\n",
      "模型及模型参数：\n",
      "LogisticRegression(C=1.0, class_weight=None, dual=False, fit_intercept=True,\n",
      "          intercept_scaling=1, max_iter=100, multi_class='ovr', n_jobs=1,\n",
      "          penalty='l2', random_state=None, solver='liblinear', tol=0.0001,\n",
      "          verbose=0, warm_start=False)\n",
      "模型评估：\n",
      "F1 score: 0.186647523331\n",
      "Recall: 0.109060402685\n",
      "Precision: 0.646766169154\n",
      "Accuracy: 0.94335\n",
      "==============================\n"
     ]
    },
    {
     "name": "stderr",
     "output_type": "stream",
     "text": [
      "D:\\D(Program)\\AI\\Anaconda3-4.3.1\\lib\\site-packages\\sklearn\\utils\\validation.py:547: DataConversionWarning: A column-vector y was passed when a 1d array was expected. Please change the shape of y to (n_samples, ), for example using ravel().\n",
      "  y = column_or_1d(y, warn=True)\n"
     ]
    },
    {
     "name": "stdout",
     "output_type": "stream",
     "text": [
      "It took 27 seconds to train the model!\n",
      "\n",
      "模型及模型参数：\n",
      "LinearSVC(C=1.0, class_weight=None, dual=True, fit_intercept=True,\n",
      "     intercept_scaling=1, loss='squared_hinge', max_iter=1000,\n",
      "     multi_class='ovr', penalty='l2', random_state=None, tol=0.0001,\n",
      "     verbose=0)\n",
      "模型评估：\n",
      "F1 score: 0.18115942029\n",
      "Recall: 0.104865771812\n",
      "Precision: 0.664893617021\n",
      "Accuracy: 0.9435\n",
      "==============================\n"
     ]
    },
    {
     "name": "stderr",
     "output_type": "stream",
     "text": [
      "D:\\D(Program)\\AI\\Anaconda3-4.3.1\\lib\\site-packages\\ipykernel\\__main__.py:16: DataConversionWarning: A column-vector y was passed when a 1d array was expected. Please change the shape of y to (n_samples, ), for example using ravel().\n"
     ]
    },
    {
     "name": "stdout",
     "output_type": "stream",
     "text": [
      "It took 0 seconds to train the model!\n",
      "\n",
      "模型及模型参数：\n",
      "KNeighborsClassifier(algorithm='auto', leaf_size=30, metric='minkowski',\n",
      "           metric_params=None, n_jobs=1, n_neighbors=5, p=2,\n",
      "           weights='uniform')\n",
      "模型评估：\n",
      "F1 score: 0.762144053601\n",
      "Recall: 0.763422818792\n",
      "Precision: 0.760869565217\n",
      "Accuracy: 0.9716\n",
      "==============================\n",
      "It took 19 seconds to train the model!\n",
      "\n",
      "模型及模型参数：\n",
      "DecisionTreeClassifier(class_weight=None, criterion='gini', max_depth=None,\n",
      "            max_features=None, max_leaf_nodes=None,\n",
      "            min_impurity_decrease=0.0, min_impurity_split=None,\n",
      "            min_samples_leaf=1, min_samples_split=2,\n",
      "            min_weight_fraction_leaf=0.0, presort=False, random_state=None,\n",
      "            splitter='best')\n",
      "模型评估：\n",
      "F1 score: 0.933887733888\n",
      "Recall: 0.94211409396\n",
      "Precision: 0.925803792251\n",
      "Accuracy: 0.99205\n",
      "==============================\n"
     ]
    },
    {
     "name": "stderr",
     "output_type": "stream",
     "text": [
      "D:\\D(Program)\\AI\\Anaconda3-4.3.1\\lib\\site-packages\\ipykernel\\__main__.py:16: DataConversionWarning: A column-vector y was passed when a 1d array was expected. Please change the shape of y to (n_samples,), for example using ravel().\n"
     ]
    },
    {
     "name": "stdout",
     "output_type": "stream",
     "text": [
      "It took 10 seconds to train the model!\n",
      "\n",
      "模型及模型参数：\n",
      "RandomForestClassifier(bootstrap=True, class_weight=None, criterion='gini',\n",
      "            max_depth=None, max_features='auto', max_leaf_nodes=None,\n",
      "            min_impurity_decrease=0.0, min_impurity_split=None,\n",
      "            min_samples_leaf=1, min_samples_split=2,\n",
      "            min_weight_fraction_leaf=0.0, n_estimators=10, n_jobs=1,\n",
      "            oob_score=False, random_state=None, verbose=0,\n",
      "            warm_start=False)\n",
      "模型评估：\n",
      "F1 score: 0.912820512821\n",
      "Recall: 0.895973154362\n",
      "Precision: 0.93031358885\n",
      "Accuracy: 0.9898\n",
      "==============================\n"
     ]
    },
    {
     "name": "stderr",
     "output_type": "stream",
     "text": [
      "D:\\D(Program)\\AI\\Anaconda3-4.3.1\\lib\\site-packages\\sklearn\\utils\\validation.py:547: DataConversionWarning: A column-vector y was passed when a 1d array was expected. Please change the shape of y to (n_samples, ), for example using ravel().\n",
      "  y = column_or_1d(y, warn=True)\n"
     ]
    },
    {
     "name": "stdout",
     "output_type": "stream",
     "text": [
      "It took 57 seconds to train the model!\n",
      "\n",
      "模型及模型参数：\n",
      "GradientBoostingClassifier(criterion='friedman_mse', init=None,\n",
      "              learning_rate=0.1, loss='deviance', max_depth=3,\n",
      "              max_features=None, max_leaf_nodes=None,\n",
      "              min_impurity_decrease=0.0, min_impurity_split=None,\n",
      "              min_samples_leaf=1, min_samples_split=2,\n",
      "              min_weight_fraction_leaf=0.0, n_estimators=100,\n",
      "              presort='auto', random_state=None, subsample=1.0, verbose=0,\n",
      "              warm_start=False)\n",
      "模型评估：\n",
      "F1 score: 0.871884564932\n",
      "Recall: 0.836409395973\n",
      "Precision: 0.910502283105\n",
      "Accuracy: 0.98535\n",
      "==============================\n"
     ]
    },
    {
     "name": "stderr",
     "output_type": "stream",
     "text": [
      "D:\\D(Program)\\AI\\Anaconda3-4.3.1\\lib\\site-packages\\ipykernel\\__main__.py:16: DataConversionWarning: A column-vector y was passed when a 1d array was expected. Please change the shape of y to (n_samples,), for example using ravel().\n"
     ]
    },
    {
     "name": "stdout",
     "output_type": "stream",
     "text": [
      "It took 1 seconds to train the model!\n",
      "\n",
      "模型及模型参数：\n",
      "ExtraTreesClassifier(bootstrap=False, class_weight=None, criterion='gini',\n",
      "           max_depth=None, max_features='auto', max_leaf_nodes=None,\n",
      "           min_impurity_decrease=0.0, min_impurity_split=None,\n",
      "           min_samples_leaf=1, min_samples_split=2,\n",
      "           min_weight_fraction_leaf=0.0, n_estimators=10, n_jobs=1,\n",
      "           oob_score=False, random_state=None, verbose=0, warm_start=False)\n",
      "模型评估：\n",
      "F1 score: 0.879265091864\n",
      "Recall: 0.843120805369\n",
      "Precision: 0.918647166362\n",
      "Accuracy: 0.9862\n"
     ]
    }
   ],
   "source": [
    "from sklearn.linear_model import LogisticRegression   #逻辑斯特回归，线性分类\n",
    "from sklearn.svm import LinearSVC                     #支持向量机\n",
    "from sklearn.neighbors import KNeighborsClassifier    #K近邻\n",
    "from sklearn.tree import DecisionTreeClassifier       #决策树\n",
    "from sklearn.ensemble import RandomForestClassifier   #随机森林\n",
    "from sklearn.ensemble import GradientBoostingClassifier   #梯度提升决策树GBDT\n",
    "from sklearn.ensemble import ExtraTreesClassifier\n",
    "\n",
    "from sklearn import metrics\n",
    "#模型及模型参数列表\n",
    "clfs = [LogisticRegression(),LinearSVC(),KNeighborsClassifier(),\\\n",
    "        DecisionTreeClassifier(),RandomForestClassifier(),GradientBoostingClassifier(),ExtraTreesClassifier()]\n",
    "#输出模型及参数信息，以及模型分类准确性\n",
    "for model in clfs:\n",
    "        print(\"==============================\")\n",
    "        start_time = time.time()\n",
    "        model.fit(X_train,y_train)\n",
    "        end_time = time.time()\n",
    "        print('It took %d seconds to train the model!' %(end_time-start_time))\n",
    "        print()\n",
    "        print(\"模型及模型参数：\")   \n",
    "        print(str(model))\n",
    "        \n",
    "        y_pred=model.predict(X_test)\n",
    "        print(\"模型评估：\")\n",
    "        print('F1 score:', f1_score(y_test, y_pred))\n",
    "        print('Recall:', recall_score(y_test, y_pred))\n",
    "        print('Precision:', precision_score(y_test, y_pred))\n",
    "        print('Accuracy:', accuracy_score(y_test, y_pred))"
   ]
  },
  {
   "cell_type": "markdown",
   "metadata": {},
   "source": [
    "### 孤立森林"
   ]
  },
  {
   "cell_type": "code",
   "execution_count": 3,
   "metadata": {
    "collapsed": true
   },
   "outputs": [],
   "source": [
    "# 孤立森林\n",
    "from sklearn.ensemble import IsolationForest\n",
    "clf = IsolationForest()\n",
    "clf.fit(xtrain)\n",
    "y_pred = clf.predict(xtrain)"
   ]
  },
  {
   "cell_type": "code",
   "execution_count": 24,
   "metadata": {
    "collapsed": false
   },
   "outputs": [
    {
     "data": {
      "text/plain": [
       "1    90000\n",
       "0    10000\n",
       "Name: 0, dtype: int64"
      ]
     },
     "execution_count": 24,
     "metadata": {},
     "output_type": "execute_result"
    }
   ],
   "source": [
    "y_pred_df[0].value_counts() #查看标签类别的统计"
   ]
  },
  {
   "cell_type": "code",
   "execution_count": 23,
   "metadata": {
    "collapsed": false
   },
   "outputs": [],
   "source": [
    "y_pred_df[y_pred_df[0]==-1] = 0"
   ]
  },
  {
   "cell_type": "code",
   "execution_count": 25,
   "metadata": {
    "collapsed": false
   },
   "outputs": [
    {
     "name": "stdout",
     "output_type": "stream",
     "text": [
      "孤立森林模型评估：\n",
      "F1 score: 0.105015657674\n",
      "Recall: 0.824807975159\n",
      "Precision: 0.0560777777778\n",
      "Accuracy: 0.13975\n"
     ]
    }
   ],
   "source": [
    "print(\"孤立森林模型评估：\")\n",
    "print('F1 score:', f1_score(ytrain, y_pred))\n",
    "print('Recall:', recall_score(ytrain, y_pred))\n",
    "print('Precision:', precision_score(ytrain, y_pred))\n",
    "print('Accuracy:', accuracy_score(ytrain, y_pred))"
   ]
  },
  {
   "cell_type": "code",
   "execution_count": 30,
   "metadata": {
    "collapsed": false
   },
   "outputs": [
    {
     "name": "stdout",
     "output_type": "stream",
     "text": [
      "(13000, 82)\n",
      "0    7000\n",
      "1    6000\n",
      "Name: label, dtype: int64\n"
     ]
    }
   ],
   "source": [
    "# 欠采样后再运行孤立森林\n",
    "\n",
    "train = xtrain\n",
    "train['label'] = ytrain['0']\n",
    "train_sample1 = pd.DataFrame(train[train['label']==0].sample(n=7000))\n",
    "train_sample2 = pd.DataFrame(train[train['label']==1].sample(n=6000))\n",
    "train_sample = pd.concat([train_sample1, train_sample2])\n",
    "print(train_sample.shape)\n",
    "print(train_sample['label'].value_counts())\n"
   ]
  },
  {
   "cell_type": "code",
   "execution_count": 38,
   "metadata": {
    "collapsed": false
   },
   "outputs": [
    {
     "data": {
      "text/plain": [
       "91208    0\n",
       "47451    0\n",
       "43345    0\n",
       "89165    0\n",
       "25026    0\n",
       "Name: label, dtype: int64"
      ]
     },
     "execution_count": 38,
     "metadata": {},
     "output_type": "execute_result"
    }
   ],
   "source": [
    "ytrain_sample = train_sample['label']\n",
    "ytrain_sample.head(5)"
   ]
  },
  {
   "cell_type": "code",
   "execution_count": 39,
   "metadata": {
    "collapsed": true
   },
   "outputs": [
    {
     "name": "stdout",
     "output_type": "stream",
     "text": [
      "孤立森林模型评估：\n"
     ]
    },
    {
     "ename": "ValueError",
     "evalue": "Target is multiclass but average='binary'. Please choose another average setting.",
     "output_type": "error",
     "traceback": [
      "\u001b[0;31m---------------------------------------------------------------------------\u001b[0m",
      "\u001b[0;31mValueError\u001b[0m                                Traceback (most recent call last)",
      "\u001b[0;32m<ipython-input-39-20ef2c7072e3>\u001b[0m in \u001b[0;36m<module>\u001b[0;34m()\u001b[0m\n\u001b[1;32m      6\u001b[0m \u001b[1;33m\u001b[0m\u001b[0m\n\u001b[1;32m      7\u001b[0m \u001b[0mprint\u001b[0m\u001b[1;33m(\u001b[0m\u001b[1;34m\"孤立森林模型评估：\"\u001b[0m\u001b[1;33m)\u001b[0m\u001b[1;33m\u001b[0m\u001b[0m\n\u001b[0;32m----> 8\u001b[0;31m \u001b[0mprint\u001b[0m\u001b[1;33m(\u001b[0m\u001b[1;34m'F1 score:'\u001b[0m\u001b[1;33m,\u001b[0m \u001b[0mf1_score\u001b[0m\u001b[1;33m(\u001b[0m\u001b[0mytrain_sample\u001b[0m\u001b[1;33m,\u001b[0m \u001b[0my_pred\u001b[0m\u001b[1;33m)\u001b[0m\u001b[1;33m)\u001b[0m\u001b[1;33m\u001b[0m\u001b[0m\n\u001b[0m\u001b[1;32m      9\u001b[0m \u001b[0mprint\u001b[0m\u001b[1;33m(\u001b[0m\u001b[1;34m'Recall:'\u001b[0m\u001b[1;33m,\u001b[0m \u001b[0mrecall_score\u001b[0m\u001b[1;33m(\u001b[0m\u001b[0mytrain_sample\u001b[0m\u001b[1;33m,\u001b[0m \u001b[0my_pred\u001b[0m\u001b[1;33m)\u001b[0m\u001b[1;33m)\u001b[0m\u001b[1;33m\u001b[0m\u001b[0m\n\u001b[1;32m     10\u001b[0m \u001b[0mprint\u001b[0m\u001b[1;33m(\u001b[0m\u001b[1;34m'Precision:'\u001b[0m\u001b[1;33m,\u001b[0m \u001b[0mprecision_score\u001b[0m\u001b[1;33m(\u001b[0m\u001b[0mytrain_sample\u001b[0m\u001b[1;33m,\u001b[0m \u001b[0my_pred\u001b[0m\u001b[1;33m)\u001b[0m\u001b[1;33m)\u001b[0m\u001b[1;33m\u001b[0m\u001b[0m\n",
      "\u001b[0;32mD:\\D(Program)\\AI\\Anaconda3-4.3.1\\lib\\site-packages\\sklearn\\metrics\\classification.py\u001b[0m in \u001b[0;36mf1_score\u001b[0;34m(y_true, y_pred, labels, pos_label, average, sample_weight)\u001b[0m\n\u001b[1;32m    712\u001b[0m     return fbeta_score(y_true, y_pred, 1, labels=labels,\n\u001b[1;32m    713\u001b[0m                        \u001b[0mpos_label\u001b[0m\u001b[1;33m=\u001b[0m\u001b[0mpos_label\u001b[0m\u001b[1;33m,\u001b[0m \u001b[0maverage\u001b[0m\u001b[1;33m=\u001b[0m\u001b[0maverage\u001b[0m\u001b[1;33m,\u001b[0m\u001b[1;33m\u001b[0m\u001b[0m\n\u001b[0;32m--> 714\u001b[0;31m                        sample_weight=sample_weight)\n\u001b[0m\u001b[1;32m    715\u001b[0m \u001b[1;33m\u001b[0m\u001b[0m\n\u001b[1;32m    716\u001b[0m \u001b[1;33m\u001b[0m\u001b[0m\n",
      "\u001b[0;32mD:\\D(Program)\\AI\\Anaconda3-4.3.1\\lib\\site-packages\\sklearn\\metrics\\classification.py\u001b[0m in \u001b[0;36mfbeta_score\u001b[0;34m(y_true, y_pred, beta, labels, pos_label, average, sample_weight)\u001b[0m\n\u001b[1;32m    826\u001b[0m                                                  \u001b[0maverage\u001b[0m\u001b[1;33m=\u001b[0m\u001b[0maverage\u001b[0m\u001b[1;33m,\u001b[0m\u001b[1;33m\u001b[0m\u001b[0m\n\u001b[1;32m    827\u001b[0m                                                  \u001b[0mwarn_for\u001b[0m\u001b[1;33m=\u001b[0m\u001b[1;33m(\u001b[0m\u001b[1;34m'f-score'\u001b[0m\u001b[1;33m,\u001b[0m\u001b[1;33m)\u001b[0m\u001b[1;33m,\u001b[0m\u001b[1;33m\u001b[0m\u001b[0m\n\u001b[0;32m--> 828\u001b[0;31m                                                  sample_weight=sample_weight)\n\u001b[0m\u001b[1;32m    829\u001b[0m     \u001b[1;32mreturn\u001b[0m \u001b[0mf\u001b[0m\u001b[1;33m\u001b[0m\u001b[0m\n\u001b[1;32m    830\u001b[0m \u001b[1;33m\u001b[0m\u001b[0m\n",
      "\u001b[0;32mD:\\D(Program)\\AI\\Anaconda3-4.3.1\\lib\\site-packages\\sklearn\\metrics\\classification.py\u001b[0m in \u001b[0;36mprecision_recall_fscore_support\u001b[0;34m(y_true, y_pred, beta, labels, pos_label, average, warn_for, sample_weight)\u001b[0m\n\u001b[1;32m   1038\u001b[0m         \u001b[1;32melse\u001b[0m\u001b[1;33m:\u001b[0m\u001b[1;33m\u001b[0m\u001b[0m\n\u001b[1;32m   1039\u001b[0m             raise ValueError(\"Target is %s but average='binary'. Please \"\n\u001b[0;32m-> 1040\u001b[0;31m                              \"choose another average setting.\" % y_type)\n\u001b[0m\u001b[1;32m   1041\u001b[0m     \u001b[1;32melif\u001b[0m \u001b[0mpos_label\u001b[0m \u001b[1;32mnot\u001b[0m \u001b[1;32min\u001b[0m \u001b[1;33m(\u001b[0m\u001b[1;32mNone\u001b[0m\u001b[1;33m,\u001b[0m \u001b[1;36m1\u001b[0m\u001b[1;33m)\u001b[0m\u001b[1;33m:\u001b[0m\u001b[1;33m\u001b[0m\u001b[0m\n\u001b[1;32m   1042\u001b[0m         warnings.warn(\"Note that pos_label (set to %r) is ignored when \"\n",
      "\u001b[0;31mValueError\u001b[0m: Target is multiclass but average='binary'. Please choose another average setting."
     ]
    }
   ],
   "source": [
    "xtrain_sample = train_sample.iloc[:,:-1]\n",
    "ytrain_sample = train_sample['label']\n",
    "clf2 = IsolationForest()\n",
    "clf2.fit(xtrain_sample)\n",
    "y_pred = clf2.predict(xtrain_sample)\n"
   ]
  },
  {
   "cell_type": "code",
   "execution_count": 40,
   "metadata": {
    "collapsed": false
   },
   "outputs": [
    {
     "name": "stdout",
     "output_type": "stream",
     "text": [
      "孤立森林模型评估：\n",
      "F1 score: 0.583502824859\n",
      "Recall: 0.860666666667\n",
      "Precision: 0.441367521368\n",
      "Accuracy: 0.432923076923\n"
     ]
    }
   ],
   "source": [
    "y_pred_df = pd.DataFrame(y_pred)\n",
    "y_pred_df[y_pred_df[0]==-1] = 0\n",
    "print(\"孤立森林模型评估：\")\n",
    "print('F1 score:', f1_score(ytrain_sample, y_pred_df))\n",
    "print('Recall:', recall_score(ytrain_sample, y_pred_df))\n",
    "print('Precision:', precision_score(ytrain_sample, y_pred_df))\n",
    "print('Accuracy:', accuracy_score(ytrain_sample, y_pred_df))"
   ]
  },
  {
   "cell_type": "markdown",
   "metadata": {},
   "source": [
    "### LR-均衡数据"
   ]
  },
  {
   "cell_type": "code",
   "execution_count": 41,
   "metadata": {
    "collapsed": false
   },
   "outputs": [
    {
     "name": "stdout",
     "output_type": "stream",
     "text": [
      "It took 1 seconds to train the model!\n",
      "\n",
      "模型及模型参数：\n",
      "LogisticRegression(C=1.0, class_weight=None, dual=False, fit_intercept=True,\n",
      "          intercept_scaling=1, max_iter=100, multi_class='ovr', n_jobs=1,\n",
      "          penalty='l2', random_state=None, solver='liblinear', tol=0.0001,\n",
      "          verbose=0, warm_start=False)\n",
      "模型评估：\n",
      "Accuracy: 0.841538461538\n",
      "F1 score: 0.846953937593\n",
      "Recall: 0.913461538462\n",
      "Precision: 0.789473684211\n",
      "\n",
      " clasification report:\n",
      "              precision    recall  f1-score   support\n",
      "\n",
      "          0       0.91      0.78      0.84      1352\n",
      "          1       0.79      0.91      0.85      1248\n",
      "\n",
      "avg / total       0.85      0.84      0.84      2600\n",
      "\n",
      "\n",
      " confussion matrix:\n",
      " [[1048  304]\n",
      " [ 108 1140]]\n"
     ]
    }
   ],
   "source": [
    "# 划分数据集\n",
    "\n",
    "from sklearn.model_selection import train_test_split\n",
    "from sklearn import metrics\n",
    "\n",
    "X_train,X_test,y_train,y_test=train_test_split(xtrain_sample,ytrain_sample,test_size=0.2,random_state=0)\n",
    "\n",
    "# LR\n",
    "from sklearn import linear_model\n",
    "import time\n",
    "cls=linear_model.LogisticRegression()\n",
    "\n",
    "start_time = time.time()\n",
    "cls.fit(X_train,y_train)\n",
    "end_time = time.time()\n",
    "print('It took %d seconds to train the model!' %(end_time-start_time))\n",
    "print()\n",
    "\n",
    "y_pred=cls.predict(X_test)\n",
    "\n",
    "print(\"模型及模型参数：\")   \n",
    "print(str(cls))\n",
    "print(\"模型评估：\")\n",
    "print('Accuracy:', accuracy_score(y_test, y_pred))\n",
    "print('F1 score:', f1_score(y_test, y_pred))\n",
    "print('Recall:', recall_score(y_test, y_pred))\n",
    "print('Precision:', precision_score(y_test, y_pred))\n",
    "print ('\\n clasification report:\\n', classification_report(y_test, y_pred))\n",
    "print('\\n confussion matrix:\\n',confusion_matrix(y_test, y_pred))"
   ]
  },
  {
   "cell_type": "markdown",
   "metadata": {},
   "source": [
    "## 实验二（采样均衡数据）"
   ]
  },
  {
   "cell_type": "code",
   "execution_count": null,
   "metadata": {
    "collapsed": false
   },
   "outputs": [
    {
     "name": "stderr",
     "output_type": "stream",
     "text": [
      "D:\\D(Program)\\AI\\Anaconda3-4.3.1\\lib\\site-packages\\sklearn\\utils\\validation.py:547: DataConversionWarning: A column-vector y was passed when a 1d array was expected. Please change the shape of y to (n_samples, ), for example using ravel().\n",
      "  y = column_or_1d(y, warn=True)\n"
     ]
    }
   ],
   "source": [
    "# 过采样与下采样的结合\n",
    "\n",
    "from imblearn.combine import SMOTEENN\n",
    "smote_enn = SMOTEENN(random_state=0)\n",
    "X_resampled, y_resampled = smote_enn.fit_sample(xtrain, ytrain)\n",
    "\n",
    "# 耗时有点长呀 15.30 - "
   ]
  },
  {
   "cell_type": "code",
   "execution_count": null,
   "metadata": {
    "collapsed": true
   },
   "outputs": [],
   "source": [
    "X_resampled_train,X_resampled_test,y_resampled_train,y_resampled_test=train_test_split(X_resampled,y_resampled,test_size=0.2,random_state=0)\n",
    "\n",
    "from sklearn import metrics\n",
    "#模型及模型参数列表\n",
    "clfs = [LogisticRegression(),XGBClassifier()]\n",
    "#输出模型及参数信息，以及模型分类准确性\n",
    "for model in clfs:\n",
    "        print(\"==============================\")\n",
    "        start_time = time.time()\n",
    "        model.fit(X_resampled_train,y_resampled_train)\n",
    "        end_time = time.time()\n",
    "        print('It took %d seconds to train the model!' %(end_time-start_time))\n",
    "        print()\n",
    "        print(\"模型及模型参数：\")   \n",
    "        print(str(model))\n",
    "        \n",
    "        y_pred=model.predict(X_resampled_test)\n",
    "        print(\"模型评估：\")\n",
    "        print('F1 score:', f1_score(y_resampled_test, y_pred))\n",
    "        print('Recall:', recall_score(y_resampled_test, y_pred))\n",
    "        print('Precision:', precision_score(y_resampled_test, y_pred))\n",
    "        print('Accuracy:', accuracy_score(y_resampled_test, y_pred))"
   ]
  },
  {
   "cell_type": "markdown",
   "metadata": {},
   "source": []
  }
 ],
 "metadata": {
  "kernelspec": {
   "display_name": "Python 3",
   "language": "python",
   "name": "python3"
  },
  "language_info": {
   "codemirror_mode": {
    "name": "ipython",
    "version": 3
   },
   "file_extension": ".py",
   "mimetype": "text/x-python",
   "name": "python",
   "nbconvert_exporter": "python",
   "pygments_lexer": "ipython3",
   "version": "3.6.0"
  }
 },
 "nbformat": 4,
 "nbformat_minor": 2
}

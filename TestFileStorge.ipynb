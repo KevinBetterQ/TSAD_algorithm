{
 "cells": [
  {
   "cell_type": "markdown",
   "metadata": {},
   "source": [
    "## Python变量持久化方法测试"
   ]
  },
  {
   "cell_type": "code",
   "execution_count": 2,
   "metadata": {
    "collapsed": true
   },
   "outputs": [],
   "source": [
    "\n",
    "aa = [[1366509,  145368, 1074000,  162936, 2857813, 1804127,  944954,\n",
    "         300712,  127639, 2272873,  687378,  429584, 2419077, 1658992,\n",
    "         171720, 1512764, 2565316, 1912198, 2020272,  136505,  116501,\n",
    "        2711559, 2126747,  154152, 1220254,       0,  107717,  816165,\n",
    "         558594],\n",
    "      [1366509,  145368, 1074000,  162936, 2857813, 1804127,  944954,\n",
    "         300712,  127639, 2272873,  687378,  429584, 2419077, 1658992,\n",
    "         171720, 1512764, 2565316, 1912198, 2020272,  136505,  116501,\n",
    "        2711559, 2126747,  154152, 1220254,       0,  107717,  816165,\n",
    "         558594],\n",
    "      [1366509,  145368, 1074000,  162936, 2857813, 1804127,  944954,\n",
    "         300712,  127639, 2272873,  687378,  429584, 2419077, 1658992,\n",
    "         171720, 1512764, 2565316, 1912198, 2020272,  136505,  116501,\n",
    "        2711559, 2126747,  154152, 1220254,       0,  107717,  816165,\n",
    "         558594],\n",
    "      [1366509,  145368, 1074000,  162936, 2857813, 1804127,  944954,\n",
    "         300712,  127639, 2272873,  687378,  429584, 2419077, 1658992,\n",
    "         171720, 1512764, 2565316, 1912198, 2020272,  136505,  116501,\n",
    "        2711559, 2126747,  154152, 1220254,       0,  107717,  816165,\n",
    "         558594],\n",
    "      [1366509,  145368, 1074000,  162936, 2857813, 1804127,  944954,\n",
    "         300712,  127639, 2272873,  687378,  429584, 2419077, 1658992,\n",
    "         171720, 1512764, 2565316, 1912198, 2020272,  136505,  116501,\n",
    "        2711559, 2126747,  154152, 1220254,       0,  107717,  816165,\n",
    "         558594],\n",
    "      [1366509,  145368, 1074000,  162936, 2857813, 1804127,  944954,\n",
    "         300712,  127639, 2272873,  687378,  429584, 2419077, 1658992,\n",
    "         171720, 1512764, 2565316, 1912198, 2020272,  136505,  116501,\n",
    "        2711559, 2126747,  154152, 1220254,       0,  107717,  816165,\n",
    "         558594],\n",
    "      [1366509,  145368, 1074000,  162936, 2857813, 1804127,  944954,\n",
    "         300712,  127639, 2272873,  687378,  429584, 2419077, 1658992,\n",
    "         171720, 1512764, 2565316, 1912198, 2020272,  136505,  116501,\n",
    "        2711559, 2126747,  154152, 1220254,       0,  107717,  816165,\n",
    "         558594],\n",
    "      [1366509,  145368, 1074000,  162936, 2857813, 1804127,  944954,\n",
    "         300712,  127639, 2272873,  687378,  429584, 2419077, 1658992,\n",
    "         171720, 1512764, 2565316, 1912198, 2020272,  136505,  116501,\n",
    "        2711559, 2126747,  154152, 1220254,       0,  107717,  816165,\n",
    "         558594],\n",
    "      [1366509,  145368, 1074000,  162936, 2857813, 1804127,  944954,\n",
    "         300712,  127639, 2272873,  687378,  429584, 2419077, 1658992,\n",
    "         171720, 1512764, 2565316, 1912198, 2020272,  136505,  116501,\n",
    "        2711559, 2126747,  154152, 1220254,       0,  107717,  816165,\n",
    "         558594],\n",
    "      [1366509,  145368, 1074000,  162936, 2857813, 1804127,  944954,\n",
    "         300712,  127639, 2272873,  687378,  429584, 2419077, 1658992,\n",
    "         171720, 1512764, 2565316, 1912198, 2020272,  136505,  116501,\n",
    "        2711559, 2126747,  154152, 1220254,       0,  107717,  816165,\n",
    "         558594],\n",
    "      [1366509,  145368, 1074000,  162936, 2857813, 1804127,  944954,\n",
    "         300712,  127639, 2272873,  687378,  429584, 2419077, 1658992,\n",
    "         171720, 1512764, 2565316, 1912198, 2020272,  136505,  116501,\n",
    "        2711559, 2126747,  154152, 1220254,       0,  107717,  816165,\n",
    "         558594],\n",
    "      [1366509,  145368, 1074000,  162936, 2857813, 1804127,  944954,\n",
    "         300712,  127639, 2272873,  687378,  429584, 2419077, 1658992,\n",
    "         171720, 1512764, 2565316, 1912198, 2020272,  136505,  116501,\n",
    "        2711559, 2126747,  154152, 1220254,       0,  107717,  816165,\n",
    "         558594],\n",
    "     ]\n"
   ]
  },
  {
   "cell_type": "code",
   "execution_count": 5,
   "metadata": {
    "collapsed": false
   },
   "outputs": [
    {
     "name": "stdout",
     "output_type": "stream",
     "text": [
      "160\n"
     ]
    }
   ],
   "source": [
    "import sys as sys\n",
    "print(sys.getsizeof(aa))\n",
    "\n",
    "# 占用内容160字节"
   ]
  },
  {
   "cell_type": "code",
   "execution_count": null,
   "metadata": {
    "collapsed": true
   },
   "outputs": [],
   "source": [
    "import pickle\n",
    "\n",
    "file1 = open('file1.pkl','wb')\n",
    "pickle.dump(aa, file1)\n",
    "file1.close()\n",
    "# 150字节\n",
    "\n",
    "file2 = open('file1.pkl','rb')\n",
    "aa2 = pickle.load(file2)\n",
    "file2,close()"
   ]
  },
  {
   "cell_type": "code",
   "execution_count": 3,
   "metadata": {
    "collapsed": true
   },
   "outputs": [],
   "source": [
    "import numpy\n",
    "numpy.save('arr1.npy', aa)\n",
    "# 1.43KB\n",
    "\n",
    "b = numpy.load('arr1.npy')"
   ]
  },
  {
   "cell_type": "code",
   "execution_count": 8,
   "metadata": {
    "collapsed": true
   },
   "outputs": [],
   "source": [
    "import pandas as pd\n",
    "aa_df = pd.DataFrame(aa)\n",
    "aa_df.to_csv('df.txt', index=False)\n",
    "# 2.57KB\n"
   ]
  },
  {
   "cell_type": "code",
   "execution_count": 6,
   "metadata": {
    "collapsed": false
   },
   "outputs": [],
   "source": [
    "import pandas as pd\n",
    "aa_df = pd.DataFrame(aa)\n",
    "aa_df.to_csv('df.csv', index=False)\n",
    "# 2.57KB\n"
   ]
  },
  {
   "cell_type": "code",
   "execution_count": 12,
   "metadata": {
    "collapsed": false
   },
   "outputs": [
    {
     "name": "stdout",
     "output_type": "stream",
     "text": [
      "<class 'numpy.ndarray'>\n"
     ]
    }
   ],
   "source": [
    "import numpy as np\n",
    "aa_np = np.array(aa)\n",
    "print(type(aa_np)) # numpy.ndarray\n",
    "np.savetxt('aanp.csv',aa_np,delimiter=',') # aanp.txt是一样的\n",
    "# 8.49KB"
   ]
  },
  {
   "cell_type": "code",
   "execution_count": 14,
   "metadata": {
    "collapsed": true
   },
   "outputs": [],
   "source": [
    "import numpy as np\n",
    "aa_np = np.array(aa)\n",
    "np.savetxt('aanp.txt',aa_np)\n",
    "# 8.49KB"
   ]
  },
  {
   "cell_type": "code",
   "execution_count": 19,
   "metadata": {
    "collapsed": true
   },
   "outputs": [],
   "source": [
    "import numpy as np\n",
    "np.savetxt('aa.txt',aa)\n",
    "# 8.49KB"
   ]
  },
  {
   "cell_type": "markdown",
   "metadata": {},
   "source": [
    "### 各类型数据持久化占空间总结：  \n",
    "  pickle.dump(aa, file1) # 150字节  \n",
    "< numpy.save('arr1.npy', aa) # 1.43KB  \n",
    "< aa_df.to_csv('df.csv', index=False) # 2.57KB  \n",
    "< np.savetxt('aa.txt',aa) # 8.49KB  "
   ]
  },
  {
   "cell_type": "code",
   "execution_count": 23,
   "metadata": {
    "collapsed": false
   },
   "outputs": [
    {
     "name": "stdout",
     "output_type": "stream",
     "text": [
      "list格式：\n",
      "160\n",
      "<class 'list'>\n",
      "\n",
      "numpy.ndarray格式：\n",
      "1504\n",
      "<class 'numpy.ndarray'>\n",
      "\n",
      "pandas格式：\n",
      "2888\n",
      "<class 'pandas.core.frame.DataFrame'>\n"
     ]
    }
   ],
   "source": [
    "print(\"list格式：\")\n",
    "print(sys.getsizeof(aa))\n",
    "print(type(aa))\n",
    "print()\n",
    "print(\"numpy.ndarray格式：\")\n",
    "print(sys.getsizeof(aa_np))\n",
    "print(type(aa_np))\n",
    "print()\n",
    "print(\"pandas格式：\")\n",
    "print(sys.getsizeof(aa_df))\n",
    "print(type(aa_df))"
   ]
  },
  {
   "cell_type": "markdown",
   "metadata": {},
   "source": [
    "### 格式占内存大小总结：  \n",
    "list < numpy.ndarray < DataFrame"
   ]
  },
  {
   "cell_type": "code",
   "execution_count": null,
   "metadata": {
    "collapsed": true
   },
   "outputs": [],
   "source": []
  }
 ],
 "metadata": {
  "kernelspec": {
   "display_name": "Python 3",
   "language": "python",
   "name": "python3"
  },
  "language_info": {
   "codemirror_mode": {
    "name": "ipython",
    "version": 3
   },
   "file_extension": ".py",
   "mimetype": "text/x-python",
   "name": "python",
   "nbconvert_exporter": "python",
   "pygments_lexer": "ipython3",
   "version": "3.6.0"
  }
 },
 "nbformat": 4,
 "nbformat_minor": 2
}
